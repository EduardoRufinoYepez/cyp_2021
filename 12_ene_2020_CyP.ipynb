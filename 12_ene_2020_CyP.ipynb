{
  "nbformat": 4,
  "nbformat_minor": 0,
  "metadata": {
    "colab": {
      "name": "12_ene_2020_CyP.ipynb",
      "provenance": [],
      "authorship_tag": "ABX9TyNfz9NP/qpO4qaww0IL5ur9",
      "include_colab_link": true
    },
    "kernelspec": {
      "name": "python3",
      "display_name": "Python 3"
    }
  },
  "cells": [
    {
      "cell_type": "markdown",
      "metadata": {
        "id": "view-in-github",
        "colab_type": "text"
      },
      "source": [
        "<a href=\"https://colab.research.google.com/github/EduardoRufinoYepez/cyp_2021/blob/main/12_ene_2020_CyP.ipynb\" target=\"_parent\"><img src=\"https://colab.research.google.com/assets/colab-badge.svg\" alt=\"Open In Colab\"/></a>"
      ]
    },
    {
      "cell_type": "code",
      "metadata": {
        "id": "p3nDd-WD-k6t"
      },
      "source": [
        ""
      ],
      "execution_count": null,
      "outputs": []
    },
    {
      "cell_type": "markdown",
      "metadata": {
        "id": "GXbdIALH-zS7"
      },
      "source": [
        "Introduccion\r\n",
        "Creado en los 90´s por Guido Van R.\r\n",
        "En el 2000 python mejora y tiene nuevas caracteristicas\r\n",
        "En 2020 deja de ser la version oficial 2.7 y solo se le dara soporte a partir de la version 3 en adelante\r\n",
        "\r\n",
        "Caracteristicas de Python\r\n",
        "Lenguaje de proposito General.\r\n",
        "Interpretado y no-Compilado\r\n",
        "Tipos de datos dinamicos (Cadena, Numericos, Bool, entre otros)\r\n",
        "Multiplataforma\r\n",
        "Lenguaje Multi-Paradigma(Imperativa,POO y Funcional).\r\n",
        "Codigo Estructurado por identacion"
      ]
    },
    {
      "cell_type": "code",
      "metadata": {
        "id": "88bD7VR1_0pC"
      },
      "source": [
        "if a > 10:\r\n",
        "    print(\"Hola\")\r\n",
        "print (\"hola dos\")"
      ],
      "execution_count": null,
      "outputs": []
    },
    {
      "cell_type": "markdown",
      "metadata": {
        "id": "rIp68xj5_1oE"
      },
      "source": [
        "Principios Zen de Python\r\n",
        "son las caractertisticas que guian el diseño del lenguaje de programacion Python\r\n",
        "\r\n"
      ]
    },
    {
      "cell_type": "code",
      "metadata": {
        "id": "6d15GXce_-Cg"
      },
      "source": [
        "# Primer programa en Python 3\r\n",
        "\r\n",
        "nombre = \"Jose\"\r\n",
        "edad = 18\r\n",
        "print(\"hola\", nombre, edad)"
      ],
      "execution_count": null,
      "outputs": []
    },
    {
      "cell_type": "markdown",
      "metadata": {
        "id": "md4O0e45ATsC"
      },
      "source": [
        "La funcion print()\r\n",
        "es una de las funciones mas empleadas en la programacion y busca enviar datosa la salida estandar (monitor)\r\n",
        "\r\n",
        "Formas de uso\r\n",
        "\r\n",
        "Con comas\r\n",
        "\r\n",
        "Con signos +\r\n",
        "\r\n",
        ".format()\r\n",
        "\r\n",
        "el operador f\"\r\n",
        "\r\n",
        "Con comas\r\n",
        "concantena los argumentos enviados a print y les agrega un espacio.\r\n",
        "\r\n",
        "Con signo +\r\n",
        "Concantena los valores ain espacio y sin hacer conversion de tipos.\r\n",
        "\r\n",
        "Con la funcion format()\r\n",
        "permite darle formato a la salida de la impresion de variables. Emplea la funcion format del tipo de dato String ."
      ]
    },
    {
      "cell_type": "code",
      "metadata": {
        "id": "O6ThBAtoA7qH"
      },
      "source": [
        "\"Cadena {} a {} form{}tear\".format(v1,v2,vn)"
      ],
      "execution_count": null,
      "outputs": []
    },
    {
      "cell_type": "markdown",
      "metadata": {
        "id": "ZRCBFQimA-EN"
      },
      "source": [
        "Con el operador f\"\"\r\n",
        "Es una variante de la forma amterior pero enmascarando la funcion format().\r\n",
        "\r\n",
        "print(f\" adadas {var} adadas {var2} adadas {varn}\")"
      ]
    },
    {
      "cell_type": "code",
      "metadata": {
        "id": "7x8SQOv1BJbY"
      },
      "source": [
        "print(\"Hola\", nombre, edad)\r\n",
        "print(\"Hola\"+ nombre + \" \"+ str(edad) )\r\n",
        "\r\n",
        "#Nombre: Jose con una edad de: 18 años\r\n",
        "print(\"Nombre:\", nombre,\"Con una edad de:\", edad)\r\n",
        "print(\"Nombre:\"+ \" \" + nombre + \" \" + \"Con una edad de:\" + str(edad))\r\n",
        "\r\n",
        "#Con format()\r\n",
        "print(\"Nombre: {}, con una edad de: {} años.\".format(nombre,edad))\r\n",
        "\r\n",
        "#Con el operador f\"\"\r\n",
        "print(f\"Nombre: {nombre} con una edad de {edad} años.\")\r\n"
      ],
      "execution_count": null,
      "outputs": []
    },
    {
      "cell_type": "markdown",
      "metadata": {
        "id": "tbRsuNVzBPOK"
      },
      "source": [
        "Funcion print() y sus caracteres de escape\r\n",
        "\r\n",
        "\\n saldo de linea\r\n",
        "\r\n",
        "\\t tabulador\r\n",
        "\r\n",
        "\\ imprimir la diagonal\r\n",
        "\r\n",
        "'y\"\r\n",
        "\r\n",
        "\\uxxxx \\uxxxxxx"
      ]
    },
    {
      "cell_type": "code",
      "metadata": {
        "id": "IF--8xKOBaQ1"
      },
      "source": [
        "print(' \"')\r\n",
        "print(\"\\\"\")\r\n",
        "print(\"Nombre: José\\n\\tcon una edad \\\\de: 18 años\")\r\n",
        "#Caracteresd Unicode\r\n",
        "\r\n",
        "print(\"Hola \\u2661\")\r\n",
        "print(\"Hola \\u2618\")"
      ],
      "execution_count": null,
      "outputs": []
    },
    {
      "cell_type": "markdown",
      "metadata": {
        "id": "FcKai5ufBhyI"
      },
      "source": [
        "print y salto de linea en el argumento\r\n",
        "\r\n",
        "print([lista de variables],end=\"\\n\")"
      ]
    },
    {
      "cell_type": "markdown",
      "metadata": {
        "id": "sUFpbyazBPD5"
      },
      "source": [
        ""
      ]
    },
    {
      "cell_type": "code",
      "metadata": {
        "id": "6gBQ9DM3BoJ4"
      },
      "source": [
        "print(\" Hola \", end=\"\\u13CD\")\r\n",
        "print( \" Mundo \", end=\"++++\")\r\n",
        "print(\" Fin \", end=\"\\n\")"
      ],
      "execution_count": null,
      "outputs": []
    },
    {
      "cell_type": "markdown",
      "metadata": {
        "id": "GcXsAYBcBtbv"
      },
      "source": [
        "Comentarios en Python\r\n",
        "un comentario en programacion, es un trexto especialque es ignorado por el interprete o compilador (segun sea el caso) y es empleado para que el programador documente sus algoritmos.\r\n",
        "\r\n",
        "existen de 2 tipos: de linea simple y de multiple linea\r\n",
        "\r\n",
        "En Python,\r\n",
        "\r\n",
        "la linea simple emplea #\r\n",
        "\r\n",
        "la multilinea emplea ```"
      ]
    },
    {
      "cell_type": "code",
      "metadata": {
        "id": "uQDWhu-iB1hy"
      },
      "source": [
        "print(\"Hola\")\r\n",
        "#print(\"Hola\")\r\n",
        "#cualquier cosa\r\n",
        "print(\"Hola\")\r\n",
        "print(\"Hola\") #Esta linea imprime hola\r\n",
        "print(\"Hola\")\r\n",
        "print(\"Hola\")\r\n",
        "'''''\r\n",
        "esto es un comentario de multiple lineas. ideal \r\n",
        "para cuando se desea explicar algo a fondo que requiera mayor detalle.\r\n",
        "'''''\r\n",
        "print(\"Hola\")\r\n",
        "print(\"Hola\")\r\n",
        "print(\"Hola\")\r\n",
        "print(\"Hola\")"
      ],
      "execution_count": null,
      "outputs": []
    }
  ]
}