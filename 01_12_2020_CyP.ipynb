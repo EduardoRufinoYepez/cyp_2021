{
  "nbformat": 4,
  "nbformat_minor": 0,
  "metadata": {
    "colab": {
      "name": "01_12_2020_CyP.ipynb",
      "provenance": [],
      "authorship_tag": "ABX9TyM1oXBaigrwHIzKC4Ts4aGs",
      "include_colab_link": true
    },
    "kernelspec": {
      "name": "python3",
      "display_name": "Python 3"
    }
  },
  "cells": [
    {
      "cell_type": "markdown",
      "metadata": {
        "id": "view-in-github",
        "colab_type": "text"
      },
      "source": [
        "<a href=\"https://colab.research.google.com/github/EduardoRufinoYepez/cyp_2021/blob/main/01_12_2020_CyP.ipynb\" target=\"_parent\"><img src=\"https://colab.research.google.com/assets/colab-badge.svg\" alt=\"Open In Colab\"/></a>"
      ]
    },
    {
      "cell_type": "code",
      "metadata": {
        "colab": {
          "base_uri": "https://localhost:8080/"
        },
        "id": "9iGXbNyTTUAo",
        "outputId": "5e3cebc6-bbb4-4ba4-8ca4-6e1b000246c2"
      },
      "source": [
        "# ejemplo 1\n",
        "# pedir 3 numeros entertos y decir cual es mayor\n",
        "\n",
        "numero1 = int (input(\"introduce el primer numero\"))\n",
        "numero2 = int (input(\"introduce el segundo numero\"))\n",
        "numero3 = int (input(\"introduce el tercer numero\"))\n",
        "\n",
        "if numero1 >= numero2 and numero1 >= numero3:\n",
        " print(numero, \"es mayor\")\n",
        "\n",
        "elif numero2 >= numero1 and numero2 >= numero3:\n",
        " print(numero2, \"es mayor\")\n",
        " \n",
        "\n",
        "\n"
      ],
      "execution_count": 1,
      "outputs": [
        {
          "output_type": "stream",
          "text": [
            "introduce el primer numero4\n",
            "introduce el segundo numero2\n",
            "introduce el tercer numero8\n"
          ],
          "name": "stdout"
        }
      ]
    },
    {
      "cell_type": "code",
      "metadata": {
        "colab": {
          "base_uri": "https://localhost:8080/",
          "height": 129
        },
        "id": "SVbqXY2RVkyb",
        "outputId": "85cfc7fe-2455-410b-a509-de5137afeb0c"
      },
      "source": [
        "# ejemplo 2, \n",
        "print(\"ingrese el n ombre del trabajador\")\n",
        "nombre = input()\n",
        "print(\"cuantas horas trabajo esta semana\", nombre, \":\")\n",
        "horas = input()\n",
        "horas = int (horas)\n",
        "print(\"cuanto se paga por hora?\")\n",
        "sueldoH= input()\n",
        "sueldo=float(sueldoH)\n",
        " \n",
        "#evaluar sueldo\n",
        "if(horas<= 40):\n",
        "pago = horas * sueldoH\n",
        "print(\"el sueldo final de\", nombre, \"es $\", pago)\n",
        "\n",
        "else:\n",
        "  estas=horas-40\n",
        "  pago= 40 * sueldoH\n",
        "  pagoFinal= pago + ((extras * sueldoH)*2)\n",
        "  prin(\"sueldo final de\", nombre, \"es $\", pagoFinal)\n",
        "\n",
        "\n"
      ],
      "execution_count": 5,
      "outputs": [
        {
          "output_type": "error",
          "ename": "IndentationError",
          "evalue": "ignored",
          "traceback": [
            "\u001b[0;36m  File \u001b[0;32m\"<ipython-input-5-903508b36cd3>\"\u001b[0;36m, line \u001b[0;32m13\u001b[0m\n\u001b[0;31m    pago = horas * sueldoH\u001b[0m\n\u001b[0m       ^\u001b[0m\n\u001b[0;31mIndentationError\u001b[0m\u001b[0;31m:\u001b[0m expected an indented block\n"
          ]
        }
      ]
    },
    {
      "cell_type": "code",
      "metadata": {
        "id": "04vkOdQYcXWB"
      },
      "source": [
        "#Ejemplo 3\n",
        "\n",
        "print(\"Ingrese el nombre del trabajador\")\n",
        "nombre=str (input())\n",
        "print(\"¿Cuantas horas trabajo esta semana?\",nombre,\":\" )\n",
        "horas=int (input())\n",
        "print(\"¿Cuanto se le paga por hora?:\")\n",
        "sueldoH= float (input())\n",
        "\n",
        "#Evaluar el sueldo\n",
        "\n",
        "if (horas<=40):\n",
        "  pago=horas*sueldoH\n",
        "  print(nombre, \"su sueldo final es de $\",pago,\"\\n\")\n",
        "\n",
        "elif ((horas>=41)and(horas<=50)):\n",
        "  extrasDobles = horas-40\n",
        "  print(\"Horas extras dobles:\",extrasDobles)\n",
        "  pago=40*sueldoH\n",
        "  print(\"Sueldo base: $\",pago)\n",
        "  pagoDoble=extrasDobles*(sueldoH*2)\n",
        "  print(\"Pago de horas dobles: $\",pagoDoble)\n",
        "  pagoFinal=pagoDoble+pago\n",
        "  print(nombre, \",su sueldo total es de $\",pagoFinal)\n",
        "\n",
        "elif (horas >50 and horas <=60):\n",
        "  extrasTriples=horas-50\n",
        "  print(\"horas extra dobles:10\")\n",
        "  print(\"horas extra triples:\",extrasTriples)\n",
        "  pago= 40* sueldoH\n",
        "  print(\"sueldo base:$\", pago)\n",
        "  pagoDoble=10*sueldoH*2\n",
        "  print(\"pago de horas extras dobles:\", pagoDoble)\n",
        "  pagoTriple=extrasTriples *sueldoH *3\n",
        "  print(\"pago de horas extra triples:\" ,pagoTriple)\n",
        "  pagoFinal=pago + pagoDoble+ pagoTriple\n",
        "  print(\"El sueldo Final de : \" ,nombre , \"Es $\", pagoFinal)\n",
        "\n",
        "  else:\n",
        "  extrasTriples=10\n",
        "  print(\"Horas extra dobles 10\")\n",
        "  print(\"horas extra triples 10\")\n",
        "  pago= 40*sueldoH\n",
        "  print(\"Sueldo Base:$\",pago)\n",
        "  pagoDoble=10*sueldoH*2\n",
        "  print(\"Pago de horas extra Dobles:\", pagoDoble)\n",
        "  pagoTriple=extrasTriples * sueldoH*3\n",
        "  print(\"pago de horas extra triples:\", pagoTriple)\n",
        "  print(\"Incentivo por trabajar más de 60 horas:$ $2000\")\n",
        "  pagoFinal= pago+pagoDoble+pagoTriple+2000\n",
        "  print(\"El sueldo Final de : \" ,nombre , \"Es $\", pagoFinal)\n",
        "\n"
      ],
      "execution_count": null,
      "outputs": []
    }
  ]
}