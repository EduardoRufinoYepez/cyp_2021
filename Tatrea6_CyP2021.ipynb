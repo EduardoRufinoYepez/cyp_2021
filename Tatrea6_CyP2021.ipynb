{
  "nbformat": 4,
  "nbformat_minor": 0,
  "metadata": {
    "colab": {
      "name": "Tatrea6/CyP2021.ipynb",
      "provenance": [],
      "authorship_tag": "ABX9TyOmzCAMO7Iw9B1wMtReWLNa",
      "include_colab_link": true
    },
    "kernelspec": {
      "name": "python3",
      "display_name": "Python 3"
    }
  },
  "cells": [
    {
      "cell_type": "markdown",
      "metadata": {
        "id": "view-in-github",
        "colab_type": "text"
      },
      "source": [
        "<a href=\"https://colab.research.google.com/github/EduardoRufinoYepez/cyp_2021/blob/main/Tatrea6_CyP2021.ipynb\" target=\"_parent\"><img src=\"https://colab.research.google.com/assets/colab-badge.svg\" alt=\"Open In Colab\"/></a>"
      ]
    },
    {
      "cell_type": "code",
      "metadata": {
        "id": "rT3Uc9hkVvX8"
      },
      "source": [
        "#Problema 3.3\r\n",
        "dato = int(input(\"Numero final: \"))\r\n",
        "if dato < 1 :\r\n",
        "    print(\"Solo numeros positivos mayores a cero.\")\r\n",
        "else :\r\n",
        "    i = 1\r\n",
        "    flag = True\r\n",
        "    cadenaD = \"\"\r\n",
        "    cadenaF = \"\"\r\n",
        "    while i <= dato :\r\n",
        "        aux = 1/i\r\n",
        "        cadenaD += (\"{0:.2f}\".format(1/i)) if flag else (\"{0:.2f}\".format(-(1/i)))\r\n",
        "        cadenaD += (\", \") if i < dato else \"\"\r\n",
        "        cadenaF += (f\"1/{i}\") if flag else (f\"-1/{i}\")\r\n",
        "        cadenaF += (\", \") if i < dato else \"\"\r\n",
        "        flag = not flag\r\n",
        "        i += 1\r\n",
        "    print(cadenaD)\r\n",
        "    print(cadenaF)\r\n"
      ],
      "execution_count": null,
      "outputs": []
    },
    {
      "cell_type": "code",
      "metadata": {
        "id": "Xr6sd-4bV8sa"
      },
      "source": [
        "#Problema 3.4\r\n",
        "sueldo = 1\r\n",
        "nomina = 0\r\n",
        "while sueldo > 0 :\r\n",
        "    sueldo = float(input(\"Sueldo: $\"))\r\n",
        "    sueldo = (sueldo * 1.15) if sueldo < 1000 else (sueldo * 1.12)\r\n",
        "    if sueldo > 0 :\r\n",
        "        print(\"El sueldo total es: ${0:.2f}\".format(sueldo))\r\n",
        "        nomina += sueldo\r\n",
        "    else :\r\n",
        "        break\r\n",
        "print(\"La nomina total es: ${0:.2f}\".format(nomina))"
      ],
      "execution_count": null,
      "outputs": []
    },
    {
      "cell_type": "code",
      "metadata": {
        "id": "K3vYI71bWE2q"
      },
      "source": [
        "#Problema 3.5\r\n",
        "sumaNumerosPos = 0\r\n",
        "sumaTodosNumeros = 0\r\n",
        "cantidadNumerosPos = 0\r\n",
        "i = 1\r\n",
        "cantidadDatos = int(input(\"¿Cuantos datos ingresaras? -:\"))\r\n",
        "while i <= cantidadDatos :\r\n",
        "    aux = int(input(\"Numero: \"))\r\n",
        "    sumaTodosNumeros += aux\r\n",
        "    if aux > 0 :\r\n",
        "        sumaNumerosPos += aux\r\n",
        "        cantidadNumerosPos += 1\r\n",
        "    i += 1\r\n",
        "print(f\"El total de numeros positivos fue: {cantidadNumerosPos}\")\r\n",
        "print(\"El promedio de los numeros positivos es: {0:.2f}\".format(sumaNumerosPos/cantidadNumerosPos))\r\n",
        "print(\"El promedio de todos los numeros fue: {0:.2f}\".format(sumaTodosNumeros/cantidadDatos))"
      ],
      "execution_count": null,
      "outputs": []
    },
    {
      "cell_type": "code",
      "metadata": {
        "id": "D5Hyyc0YWJKJ"
      },
      "source": [
        "#Problema 3.6\r\n",
        "cantidadDatos = int(input(\"¿Cuantos datos ingresaras? -:\"))\r\n",
        "if cantidadDatos < 1 :\r\n",
        "    print(\"Cantidad de datos no permitida.\")\r\n",
        "else :\r\n",
        "    listaNumeros = []\r\n",
        "    i = 1\r\n",
        "    while i <=  cantidadDatos :\r\n",
        "        listaNumeros.append(int(input(\"Numero: \")))\r\n",
        "        i += 1\r\n",
        "    for i in range(cantidadDatos) :\r\n",
        "        for j in range(cantidadDatos - 1) :\r\n",
        "            if listaNumeros[j] > listaNumeros[j+1] :\r\n",
        "                aux = listaNumeros[j+1]\r\n",
        "                listaNumeros[j+1] = listaNumeros[j]\r\n",
        "                listaNumeros[j] = aux\r\n",
        "    print(f\"El numero mas pequeño es: {listaNumeros[0]}\")\r\n",
        "    print(f\"El numero mas grande es: {listaNumeros[cantidadDatos - 1]}\")"
      ],
      "execution_count": null,
      "outputs": []
    },
    {
      "cell_type": "code",
      "metadata": {
        "id": "B77wAVInWcts"
      },
      "source": [
        "#Problema 3.6\r\n",
        "cantidadDatos = int(input(\"¿Cuantos datos ingresaras? -:\"))\r\n",
        "if cantidadDatos < 1 :\r\n",
        "    print(\"Cantidad de datos no permitida.\")\r\n",
        "else :\r\n",
        "    listaNumeros = []\r\n",
        "    i = 1\r\n",
        "    while i <=  cantidadDatos :\r\n",
        "        listaNumeros.append(int(input(\"Numero: \")))\r\n",
        "        i += 1\r\n",
        "    listaNumeros.sort()\r\n",
        "    print(f\"El numero mas pequeño es: {listaNumeros[0]}\")\r\n",
        "    print(f\"El numero mas grande es: {listaNumeros[cantidadDatos - 1]}\")"
      ],
      "execution_count": null,
      "outputs": []
    },
    {
      "cell_type": "code",
      "metadata": {
        "id": "JOrkNOXBWhcu"
      },
      "source": [
        "#Problema 3.7\r\n",
        "cantidadVentas = int(input(\"Cantidad de ventas: \"))\r\n",
        "if cantidadVentas < 1 :\r\n",
        "    print(\"Cantidad no admitida.\")\r\n",
        "else :\r\n",
        "    i = 1\r\n",
        "    venta_0_200 = 0\r\n",
        "    venta_200_400 = 0\r\n",
        "    venta_400 = 0\r\n",
        "    while i <= cantidadVentas :\r\n",
        "        venta = float(input(\"Total de venta: \"))\r\n",
        "        if venta < 0:\r\n",
        "            print(\"No se admiten ventas negativas.\")\r\n",
        "            break\r\n",
        "        else :\r\n",
        "            if venta >= 0 and venta < 200 :\r\n",
        "                venta_0_200 += 1\r\n",
        "            elif venta >= 200 and venta < 400 :\r\n",
        "                venta_200_400 += 1\r\n",
        "            else :\r\n",
        "                venta_400 += 1\r\n",
        "        i += 1\r\n",
        "    print(f\"Total de ventas de $200 o menos: {venta_0_200}\")\r\n",
        "    print(f\"Total de ventas de $200 a $400: {venta_200_400}\")\r\n",
        "    print(f\"Total de ventas de mas de $400: {venta_400}\")"
      ],
      "execution_count": null,
      "outputs": []
    },
    {
      "cell_type": "code",
      "metadata": {
        "id": "4YAajubBWnZ6"
      },
      "source": [
        "#Problema 3.8\r\n",
        "numero = int(input(\"Numero: \"))\r\n",
        "if numero < 1 :\r\n",
        "    print(\"Solo numeros positivos.\")\r\n",
        "else :\r\n",
        "    cadena = f\"{numero}, \"\r\n",
        "    while numero != 1 :\r\n",
        "        numero = (int(numero/2)) if numero%2 == 0 else ((numero * 3) + 1)\r\n",
        "        cadena += (f\"{numero}, \") if numero != 1 else (f\"{numero}\")\r\n",
        "print(cadena)"
      ],
      "execution_count": null,
      "outputs": []
    },
    {
      "cell_type": "code",
      "metadata": {
        "id": "KptTfYrrWrYE"
      },
      "source": [
        "#Problema 3.9\r\n",
        "numero = int(input(\"Numero: \"))\r\n",
        "if numero < 1 :\r\n",
        "    print(\"Solo numeros positivos.\")\r\n",
        "else :\r\n",
        "    cont = 0\r\n",
        "    i = 1\r\n",
        "    while i <= numero :\r\n",
        "        cont += i ** i\r\n",
        "        i += 1\r\n",
        "    print(f\"Total: {cont}\")"
      ],
      "execution_count": null,
      "outputs": []
    },
    {
      "cell_type": "code",
      "metadata": {
        "id": "JSPi-GCJWvky"
      },
      "source": [
        "#Problema 3.10\r\n",
        "i = 3\r\n",
        "primero = 0\r\n",
        "segundo = 1\r\n",
        "cadena = \"0, 1, \"\r\n",
        "while i <= 180 :\r\n",
        "    proximo = primero + segundo\r\n",
        "    primero = segundo\r\n",
        "    segundo = proximo\r\n",
        "    cadena += (f\"{proximo}, \") if i < 180 else (f\"{proximo}\")\r\n",
        "    i += 1\r\n",
        "print(cadena)"
      ],
      "execution_count": null,
      "outputs": []
    },
    {
      "cell_type": "code",
      "metadata": {
        "id": "vnelHXHHW0TD"
      },
      "source": [
        "#Problema 3.11\r\n",
        "voto = 1\r\n",
        "totalVotos = 0\r\n",
        "votos_1 = 0\r\n",
        "votos_2 = 0\r\n",
        "votos_3 = 0\r\n",
        "votos_4 = 0\r\n",
        "while voto > 0 and voto < 5 :\r\n",
        "    voto = int(input(\"Voto: \"))\r\n",
        "    totalVotos = (totalVotos + 1) if voto > 0 and voto < 5 else totalVotos\r\n",
        "    if voto == 1 :\r\n",
        "        votos_1 += 1\r\n",
        "    elif voto == 2 :\r\n",
        "        votos_2 += 1\r\n",
        "    elif voto == 3 :\r\n",
        "        votos_3 += 1\r\n",
        "    elif voto == 4 :\r\n",
        "        votos_4 += 1\r\n",
        "    else :\r\n",
        "        break\r\n",
        "print(f\"Fueron registrados {totalVotos} votos.\")\r\n",
        "print(f\"Candidato 1: {votos_1} votos obtenidos para un {(votos_1/totalVotos) * 100}% de los votos\")\r\n",
        "print(f\"Candidato 2: {votos_2} votos obtenidos para un {(votos_2/totalVotos) * 100}% de los votos\")\r\n",
        "print(f\"Candidato 3: {votos_3} votos obtenidos para un {(votos_3/totalVotos) * 100}% de los votos\")\r\n",
        "print(f\"Candidato 4: {votos_4} votos obtenidos para un {(votos_4/totalVotos) * 100}% de los votos\")\r\n"
      ],
      "execution_count": null,
      "outputs": []
    },
    {
      "cell_type": "code",
      "metadata": {
        "id": "Na_HSAT2W6Br"
      },
      "source": [
        "#Problema 3.12\r\n",
        "sueldo = 1\r\n",
        "id = 0\r\n",
        "idMax = 0\r\n",
        "sueldoMax = 0\r\n",
        "empleados = int(input(\"Numero de empleados: \"))\r\n",
        "i = 0\r\n",
        "while i < empleados :\r\n",
        "    id = int(input(\"Id: \"))\r\n",
        "    sueldo = float(input(\"Sueldo: \"))\r\n",
        "    if sueldo > sueldoMax :\r\n",
        "        sueldoMax = sueldo\r\n",
        "        idMax = id\r\n",
        "    i += 1\r\n",
        "print(f\"El id del empleado con el sueldo mas alto es: {idMax}\")\r\n",
        "print(f\"Sueldo: {sueldoMax}\")"
      ],
      "execution_count": null,
      "outputs": []
    },
    {
      "cell_type": "code",
      "metadata": {
        "id": "10dr2tvKXABn"
      },
      "source": [
        "#Problema 3.13\r\n",
        "i = 0\r\n",
        "mes = [\"Enero\", \"Febrero\", \"Marzo\", \"Abril\", \"Mayo\", \"Junio\", \"Julio\", \"Agosto\", \"Septiembre\", \"Octubre\", \"Noviembre\", \"Diciembre\"]\r\n",
        "menorRS = 1000\r\n",
        "menorMS = 0\r\n",
        "totalRN = 0\r\n",
        "totalRC = 0\r\n",
        "totalRS = 0\r\n",
        "while i < 12 :\r\n",
        "    print(f\"Registros {mes[i]}\")\r\n",
        "    registroN = float(input(\"Region Norte: \"))\r\n",
        "    registroC = float(input(\"Region Centro: \"))\r\n",
        "    registroS = float(input(\"Region Sur: \"))\r\n",
        "    if menorRS > registroS :\r\n",
        "        menorRS = registroS\r\n",
        "        menorMS = i\r\n",
        "    totalRN = (totalRN + registroN) if registroN > 0 else totalRN\r\n",
        "    totalRC = (totalRC + registroC) if registroC > 0 else totalRC\r\n",
        "    totalRS = (totalRS + registroS) if registroS > 0 else totalRS\r\n",
        "    i += 1\r\n",
        "if totalRN == totalRC and totalRN == totalRS :\r\n",
        "    print(\"Todas las regiones tuvieron un promedio de lluvia anual igual ({0:.3f}).\".format(totalRN/12))\r\n",
        "    print(\"El promedio de lluvia anual de la region central es : {0:.3f}\".format(totalRC/12))\r\n",
        "elif totalRN > totalRC and totalRN > totalRS :\r\n",
        "    print(\"La region norte tuvo un mayor promedio de lluvia anual ({0:.3f})\".format(totalRN/12))\r\n",
        "    print(\"El promedio de lluvia anual de la region central es : {0:.3f}\".format(totalRC/12))\r\n",
        "elif totalRC > totalRS :\r\n",
        "    print(\"La region centro tuvo un mayor promedio de lluvia anual ({0:.3f})\".format(totalRC/12))\r\n",
        "else :\r\n",
        "    print(\"La region sur tuvo un mayor promedio de lluvia anual ({0:.3f})\".format(totalRS/12))\r\n",
        "    print(\"El promedio de lluvia anual de la region central es : {0:.3f}\".format(totalRC/12))\r\n",
        "print(f\"{mes[menorMS]} fue el mes con menor registro de lluvia ({menorRS})\")"
      ],
      "execution_count": null,
      "outputs": []
    },
    {
      "cell_type": "code",
      "metadata": {
        "id": "d-tSYcGyXEtI"
      },
      "source": [
        "#Problema 3.14\r\n",
        "precios = []\r\n",
        "contBoletos = [0, 0, 0, 0, 0]\r\n",
        "recaudacionTotal = 0\r\n",
        "venta = 1\r\n",
        "for i in range(5) :\r\n",
        "    precios.append(float(input(f\"Precio Categoria {i+1}: $\")))\r\n",
        "while i >= 1 :\r\n",
        "    categoria = int(input(\"Categoria: \"))\r\n",
        "    cantidad = int(input(\"Cantidad: \"))\r\n",
        "    if categoria > 0 and categoria < 6 and cantidad > 0 :\r\n",
        "        total = cantidad * precios[categoria - 1]\r\n",
        "        print(\"Ticket\")\r\n",
        "        print(f\"Categoria de los boletos: {categoria}\")\r\n",
        "        print(f\"Total de boletos: {cantidad}\")\r\n",
        "        print(\"Total a pagar: ${0:.2f}\".format(total))\r\n",
        "        recaudacionTotal += total\r\n",
        "        contBoletos[categoria - 1] += cantidad\r\n",
        "        print(\"_______________________\")\r\n",
        "    else :\r\n",
        "        break\r\n",
        "for index, i in enumerate(contBoletos) :\r\n",
        "    print(f\"Boletos vendidos (Categoria {index + 1}): {i}\")\r\n",
        "print(\"Recaudacion total: ${0:.2f}\".format(recaudacionTotal))"
      ],
      "execution_count": null,
      "outputs": []
    },
    {
      "cell_type": "code",
      "metadata": {
        "id": "GBJADOXbXI7d"
      },
      "source": [
        "#Problema 3.15\r\n",
        "contL = 0\r\n",
        "costeL = 0\r\n",
        "costeN = 0\r\n",
        "costeI = 0\r\n",
        "tipo = 1\r\n",
        "print(\"1. Internacional \\n2. Nacional \\n3. Local\")\r\n",
        "while tipo == 1 or tipo == 2 or tipo == 3 :\r\n",
        "    tipo = int(input(\"Tipo de llamada (Ingresa el numero): \"))\r\n",
        "    minutos = 0\r\n",
        "    if tipo == 3 :\r\n",
        "        contL += 1\r\n",
        "    elif tipo == 2 :\r\n",
        "        minutos = int(input(\"Minutos usados: \"))\r\n",
        "        coste = (1.2 * minutos) if minutos > 0 and minutos < 4 else ((1.2 * 3) + (0.48 * (minutos - 3)))\r\n",
        "        costeN += coste\r\n",
        "    elif tipo == 1 :\r\n",
        "        minutos = int(input(\"Minutos usados: \"))\r\n",
        "        coste = (7.59 * minutos) if minutos > 0 and minutos < 4 else ((7.59 * 3) + (3.03 * (minutos - 3)))\r\n",
        "        costeI += coste\r\n",
        "    else :\r\n",
        "        break\r\n",
        "costeL = ((contL - 50) * 0.6) if contL > 50 else costeL\r\n",
        "print(\"Coste total llamada internacional: ${0:.2f}\".format(costeI))\r\n",
        "print(\"Coste total llamada nacional: ${0:.2f}\".format(costeN))\r\n",
        "print(\"Coste total llamada local: ${0:.2f}\".format(costeL))\r\n",
        "print(f\"Total: {costeI + costeN + costeL}\")"
      ],
      "execution_count": null,
      "outputs": []
    },
    {
      "cell_type": "code",
      "metadata": {
        "id": "qPFnrE5UXNBJ"
      },
      "source": [
        "#Problema 3.16\r\n",
        "inicio = int(input(\"Año de inicio: \"))\r\n",
        "inicioAux = inicio\r\n",
        "tipo = [0, 0, 0, 0, 0]\r\n",
        "produccionAnual = []\r\n",
        "produccionTipo_2 = 0\r\n",
        "produccionAnual_2 = 0\r\n",
        "produccionTipo_3 = []\r\n",
        "while inicio <= 2020 :\r\n",
        "    print(f\"Año {inicio}\")\r\n",
        "    produccion = 0\r\n",
        "    for index, i in enumerate(tipo) :\r\n",
        "        aux = float(input(f\"Cantidad producida de vino tipo {index + 1} (l): \"))\r\n",
        "        if aux < 0 :\r\n",
        "            break\r\n",
        "        tipo[index] += aux\r\n",
        "        produccion += aux\r\n",
        "        if index == 1 and aux > produccionTipo_2:\r\n",
        "            produccionTipo_2 = aux\r\n",
        "            produccionAnual_2 = inicio\r\n",
        "        if index == 2 and aux == 0:\r\n",
        "            produccionTipo_3.append(inicio)\r\n",
        "    produccionAnual.append(produccion)\r\n",
        "    inicio += 1\r\n",
        "for index, i in enumerate(tipo) :\r\n",
        "    print(f\"Vino producido tipo {index + 1}: {i} l\")\r\n",
        "for index, i in enumerate(produccionAnual) :\r\n",
        "    print(f\"Produccion del año {inicioAux + index}: {i} l\")\r\n",
        "print(f\"El año {produccionAnual_2} se produjo mas vino tipo de 2. ({produccionTipo_2})\")\r\n",
        "for i in produccionTipo_3 :\r\n",
        "    print(f\"El año {i} no se produjo vino tipo 3\")"
      ],
      "execution_count": null,
      "outputs": []
    },
    {
      "cell_type": "code",
      "metadata": {
        "id": "kc79BB35XRXC"
      },
      "source": [
        "#Problema 3.17\r\n",
        "limite = int(input(\"Numero limite: \"))\r\n",
        "if limite < 1 :\r\n",
        "    print(\"Entrada no valida.\")\r\n",
        "else :\r\n",
        "    i = 1\r\n",
        "    cadena = \"1, \"\r\n",
        "    while i <= limite :\r\n",
        "        if i+2 > limite :\r\n",
        "            break\r\n",
        "        else :\r\n",
        "            i += 2\r\n",
        "            cont = 0\r\n",
        "            for e in range(1, i, 2) :\r\n",
        "                cont = (cont + 1) if i%e == 0 else cont\r\n",
        "            cadena = (cadena + str(i) + \", \") if cont == 1 else cadena\r\n",
        "    print(cadena)"
      ],
      "execution_count": null,
      "outputs": []
    },
    {
      "cell_type": "code",
      "metadata": {
        "id": "Euz7rWGYXVdz"
      },
      "source": [
        "#Problema 3.18\r\n",
        "empresas = int(input(\"Numero de empresas: \"))\r\n",
        "mes = [\"Enero\", \"Febrero\", \"Marzo\", \"Abril\", \"Mayo\", \"Junio\", \"Julio\", \"Agosto\", \"Septiembre\", \"Octubre\", \"Noviembre\", \"Diciembre\"]\r\n",
        "produccion = []\r\n",
        "totalProduccion = []\r\n",
        "mayorProduccion = 0\r\n",
        "idMayorProduccion = 0\r\n",
        "for i in range(empresas) :\r\n",
        "    aux = []\r\n",
        "    cont = 0\r\n",
        "    aux.append(int(input(\"ID: \")))\r\n",
        "    for j in mes :\r\n",
        "        print(f\"Mes de {j}\")\r\n",
        "        producto = float(input(\"Produccion: $\"))\r\n",
        "        if producto < 0 :\r\n",
        "            break\r\n",
        "        aux.append(producto)\r\n",
        "        cont += producto\r\n",
        "    produccion.append(aux)\r\n",
        "    totalProduccion.append(cont)\r\n",
        "for i in range(empresas) :\r\n",
        "    if produccion[i][7] > 3000000 :\r\n",
        "        print(f\"La empresa con el ID {produccion[i][0]} produjo mas de $3,000,000 en julio\")\r\n",
        "for index, i in enumerate(totalProduccion) :\r\n",
        "    print(f\"La empresa con el ID {produccion[index][0]} produjo ${i}\")\r\n",
        "    if i > mayorProduccion :\r\n",
        "        mayorProduccion = i\r\n",
        "        idMayorProduccion = index\r\n",
        "print(f\"La empresa con mayor produccion tiene el ID {produccion[idMayorProduccion][0]}, produjo ${mayorProduccion}\")"
      ],
      "execution_count": null,
      "outputs": []
    },
    {
      "cell_type": "code",
      "metadata": {
        "id": "AAsHRyabXZdp"
      },
      "source": [
        "#Problema 3.19\r\n",
        "numero = int(input(\"Numero: \"))\r\n",
        "print(\"El numero 1 es un numero perfecto.\")\r\n",
        "for i in range(1, numero) :\r\n",
        "    cont = 0\r\n",
        "    j = 1\r\n",
        "    while j <= int(i/2) :\r\n",
        "        if i%j == 0 :\r\n",
        "            cont += j\r\n",
        "        j += 1\r\n",
        "    if cont == i :\r\n",
        "        print(f\"El numero {i} es un numero perfecto.\")"
      ],
      "execution_count": null,
      "outputs": []
    }
  ]
}