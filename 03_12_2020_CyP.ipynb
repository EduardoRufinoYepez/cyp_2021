{
  "nbformat": 4,
  "nbformat_minor": 0,
  "metadata": {
    "colab": {
      "name": "03_12_2020_CyP.ipynb",
      "provenance": [],
      "authorship_tag": "ABX9TyP2r7oQmAhA1pZlvDVHo0nt",
      "include_colab_link": true
    },
    "kernelspec": {
      "name": "python3",
      "display_name": "Python 3"
    }
  },
  "cells": [
    {
      "cell_type": "markdown",
      "metadata": {
        "id": "view-in-github",
        "colab_type": "text"
      },
      "source": [
        "<a href=\"https://colab.research.google.com/github/EduardoRufinoYepez/cyp_2021/blob/main/03_12_2020_CyP.ipynb\" target=\"_parent\"><img src=\"https://colab.research.google.com/assets/colab-badge.svg\" alt=\"Open In Colab\"/></a>"
      ]
    },
    {
      "cell_type": "code",
      "metadata": {
        "id": "yYxRx6XxmtAC"
      },
      "source": [
        "#ejemplo 1\n",
        "for i in[1,2,3,4,5]:\n",
        "  print(f\"el elemento:{i}\")"
      ],
      "execution_count": null,
      "outputs": []
    },
    {
      "cell_type": "code",
      "metadata": {
        "id": "i93DZgzLpZi7"
      },
      "source": [
        "#Ejemplo 2\n",
        "coleccion={\"Mario\":20,\"Mariana\":19,\"Yessica\":14,\"Luis\":18}\n",
        "for i in coleccion:\n",
        "  print(f\"Elemento:{i}\")"
      ],
      "execution_count": null,
      "outputs": []
    },
    {
      "cell_type": "code",
      "metadata": {
        "id": "Fs-Z52BCyZlt"
      },
      "source": [
        "coleccion={\"Mario\":20,\"Mariana\":19,\"Yessica\":14,\"Luis\":18}\n",
        "for i in coleccion:\n",
        "  print(f\"{coleccion[i]}\")"
      ],
      "execution_count": null,
      "outputs": []
    },
    {
      "cell_type": "code",
      "metadata": {
        "id": "zTCgAu8Oybzp"
      },
      "source": [
        "coleccion={\"Mario\":20,\"Mariana\":19,\"Yessica\":14,\"Luis\":18}\n",
        "for i in coleccion:\n",
        "  print(f\"{i}->{coleccion[i]}\")"
      ],
      "execution_count": null,
      "outputs": []
    },
    {
      "cell_type": "code",
      "metadata": {
        "id": "leuD9Vw6ygIj"
      },
      "source": [
        "#Ejemplo 3\n",
        "\n",
        "email=False\n",
        "for i in\"ariel@unam.mx\":\n",
        "  if(i==\"@\"):\n",
        "    email=True\n",
        "if email== True:\n",
        "  print(\"El email es correcto\")\n",
        "\n",
        "else:\n",
        "  print(\"El correo no es correcto\")"
      ],
      "execution_count": null,
      "outputs": []
    },
    {
      "cell_type": "code",
      "metadata": {
        "id": "QmTd4Mom0Bap"
      },
      "source": [
        "email=False\n",
        "miemail=input(\"tu correo:\")\n",
        "for i in miemail:\n",
        "\n",
        "  if(i==\"@\"):\n",
        "    email=True\n",
        "    \n",
        "if email== True:\n",
        "     print(\"el email es correcto\")\n",
        "\n",
        "else:\n",
        "     print(\"el email es falso\")"
      ],
      "execution_count": null,
      "outputs": []
    },
    {
      "cell_type": "code",
      "metadata": {
        "id": "7X0ww0Pdyium"
      },
      "source": [
        "#for-range\n",
        "for i in range (5):\n",
        "  print(\"hola\")"
      ],
      "execution_count": null,
      "outputs": []
    },
    {
      "cell_type": "code",
      "metadata": {
        "id": "Gy3W3nv60RmY"
      },
      "source": [
        "for i in range (5):\n",
        "  print(i)"
      ],
      "execution_count": null,
      "outputs": []
    },
    {
      "cell_type": "code",
      "metadata": {
        "id": "QATEG2430UGT"
      },
      "source": [
        " for i in range (10):\n",
        "  print(f\"valor de la variable {i}\")"
      ],
      "execution_count": null,
      "outputs": []
    },
    {
      "cell_type": "code",
      "metadata": {
        "id": "Kl0pJkxWykzB"
      },
      "source": [
        "for i in range (20):\n",
        "  print(f\"valor de la variable {i}\")"
      ],
      "execution_count": null,
      "outputs": []
    }
  ]
}