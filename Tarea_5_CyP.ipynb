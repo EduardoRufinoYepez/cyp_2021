{
  "nbformat": 4,
  "nbformat_minor": 0,
  "metadata": {
    "colab": {
      "name": "Tarea_5_CyP.ipynb",
      "provenance": [],
      "authorship_tag": "ABX9TyPyD8aoxu3h2abKjD3RDdOo",
      "include_colab_link": true
    },
    "kernelspec": {
      "name": "python3",
      "display_name": "Python 3"
    }
  },
  "cells": [
    {
      "cell_type": "markdown",
      "metadata": {
        "id": "view-in-github",
        "colab_type": "text"
      },
      "source": [
        "<a href=\"https://colab.research.google.com/github/EduardoRufinoYepez/cyp_2021/blob/main/Tarea_5_CyP.ipynb\" target=\"_parent\"><img src=\"https://colab.research.google.com/assets/colab-badge.svg\" alt=\"Open In Colab\"/></a>"
      ]
    },
    {
      "cell_type": "code",
      "metadata": {
        "id": "msQtV12w6nEx"
      },
      "source": [
        "import array\r\n",
        "array.array('f')\r\n",
        "sueldos = array.array('f',(0 for i in range(0, 10)))\r\n",
        "\r\n",
        "nomina = float(0)\r\n",
        "\r\n",
        "for i in range (0, 10):\r\n",
        "  sueldos[i] = int(input(f\"Ingresa el {i+1} sueldo: \"))\r\n",
        "  nomina += sueldos[i]\r\n",
        "\r\n",
        "print(\"La nomina de la empresa con base a los sueldos es: \", nomina)\r\n",
        "\r\n",
        "#EL LIBRO TIENE MARCADO QUE NO SE DEBE REALIZAR EL ALGORITMO CON NINGUNA ESTRUCTURA DE REPETICIÓN. SIN EMBARGO, ESE ES EL TEMA Y EL PRIMER EJEMPLO\r\n",
        "#DE DICHA SECCIÓN DEL LIBRO. MARCARÉ EN COMENTARIOS ÉSTE EJERCICIO SIN USAR FOR, WHILE, DO WHILE.\r\n",
        "\r\n",
        "#sueldo1 = 0, sueldo2 = 0, sueldo3 = 0, sueldo4 = 0, sueldo5 = 0, sueldo6 = 0, sueldo7 = 0, sueldo8 = 0, sueldo9 = 0, sueldo10 = 0\r\n",
        "#nomina = float(0)\r\n",
        "\r\n",
        "#sueldo1 = float(input(\"Ingresa el primer sueldo: \"))\r\n",
        "#sueldo2 = float(input(\"Ingresa el segundo sueldo: \"))\r\n",
        "#sueldo3 = float(input(\"Ingresa el tercer sueldo: \"))\r\n",
        "#sueldo4 = float(input(\"Ingresa el cuarto sueldo: \"))\r\n",
        "#sueldo5 = float(input(\"Ingresa el quinto sueldo: \"))\r\n",
        "#sueldo6 = float(input(\"Ingresa el sexto sueldo: \"))\r\n",
        "#sueldo7 = float(input(\"Ingresa el séptimo sueldo: \"))\r\n",
        "#sueldo8 = float(input(\"Ingresa el octavo sueldo: \"))\r\n",
        "#sueldo9 = float(input(\"Ingresa el noveno sueldo: \"))\r\n",
        "#sueldo10 = float(input(\"Ingresa el décimo sueldo: \"))\r\n",
        "\r\n",
        "#nomina = sueldo1 + sueldo2 + sueldo3 + sueldo4 + sueldo5 + sueldo6 + sueldo7 + sueldo8 + sueldo9 + sueldo10\r\n",
        "\r\n",
        "#print(\"La nomina de la empresa es: \",nomina)"
      ],
      "execution_count": null,
      "outputs": []
    },
    {
      "cell_type": "code",
      "metadata": {
        "id": "LQW9sUW87A2q"
      },
      "source": [
        "#Ejercicio 3.4\r\n",
        "\r\n",
        "import array\r\n",
        "array.array('f')\r\n",
        "gastos = array.array('f',(0 for i in range(0, 999)))\r\n",
        "a = int(0)\r\n",
        "yes_no = ''\r\n",
        "total_gastos = float(0)\r\n",
        "\r\n",
        "while True:\r\n",
        "  gastos[a] = float(input(f\"¿De cuanto fue el {a+1} gasto?: \"))\r\n",
        "  total_gastos += gastos[a]\r\n",
        "  while True:\r\n",
        "    yes_no = ''\r\n",
        "    yes_no = str(input(\"¿Hubo algún otro gasto? S/N: \"))\r\n",
        "    if yes_no == 's' or yes_no == 'S' or yes_no == 'n' or yes_no == 'N':\r\n",
        "      break;\r\n",
        "    else:\r\n",
        "      print(\"Debes ingresar S o N para continuar.\\n\")\r\n",
        "  if yes_no == 'n' or yes_no == 'N':\r\n",
        "    break;\r\n",
        "  elif yes_no == 's' or yes_no == 'S':\r\n",
        "    a += 1\r\n",
        "\r\n",
        "print(\"\\nEl total de gastos durante el viaje es de: \",total_gastos)\r\n",
        "print(\"\\nLos gastos individuales son:\\n\")\r\n",
        "\r\n",
        "for i in range (0, a+1):\r\n",
        "  print(f\"{i+1} gasto es de: {gastos[i]}\")\r\n"
      ],
      "execution_count": null,
      "outputs": []
    }
  ]
}