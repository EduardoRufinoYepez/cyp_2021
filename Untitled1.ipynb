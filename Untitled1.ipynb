{
  "nbformat": 4,
  "nbformat_minor": 0,
  "metadata": {
    "colab": {
      "name": "Untitled1.ipynb",
      "provenance": [],
      "authorship_tag": "ABX9TyNzQDvpmKbvK0ps0Q7PB5hE",
      "include_colab_link": true
    },
    "kernelspec": {
      "name": "python3",
      "display_name": "Python 3"
    }
  },
  "cells": [
    {
      "cell_type": "markdown",
      "metadata": {
        "id": "view-in-github",
        "colab_type": "text"
      },
      "source": [
        "<a href=\"https://colab.research.google.com/github/EduardoRufinoYepez/cyp_2021/blob/main/Untitled1.ipynb\" target=\"_parent\"><img src=\"https://colab.research.google.com/assets/colab-badge.svg\" alt=\"Open In Colab\"/></a>"
      ]
    },
    {
      "cell_type": "code",
      "metadata": {
        "id": "tQVdYZ2cJUD3"
      },
      "source": [
        "#ejemplo 2.4 aumento de un trabajador \n",
        "\n",
        "sue = 0\n",
        "sue = float(input(\"ingrese el sueldo \"))\n",
        "\n",
        "if (sue <= 1000):\n",
        "  suea = ((sue / 100) * 15) + sue\n",
        "  print(f\"el sueldo del trabajor con el aumento es ${suea:.2f}\")\n",
        "else:\n",
        " suea = ((sue / 100) * 12) + sue\n",
        " print(f\"el sueldo del trabajor con el aumento es ${suea:.2f}\")"
      ],
      "execution_count": null,
      "outputs": []
    },
    {
      "cell_type": "code",
      "metadata": {
        "id": "43N0h6ZhJdwj"
      },
      "source": [
        "#ejemplo 2.8 calculo de aumento segun la categoria\n",
        "\n",
        "cat = int(input(\"ingrese la categoria del trabajador \"))\n",
        "sue = float(input(\"ingrese el sueldo del trabajador \"))\n",
        "\n",
        "if (cat == 1):\n",
        "  suea = ((sue / 100) * 15) + sue\n",
        "  print(f\"el sueldo del trabajor categoria {cat} con el aumento es ${suea:.2f}\")\n",
        "elif (cat == 2):\n",
        "  suea = ((sue / 100) * 10) + sue\n",
        "  print(f\"el sueldo del trabajor categoria {cat} con el aumento es ${suea:.2f}\")\n",
        "elif (cat == 3):\n",
        "  suea = ((sue / 100) * 8) + sue\n",
        "  print(f\"el sueldo del trabajor categoria {cat} con el aumento es ${suea:.2f}\")\n",
        "elif (cat == 4):\n",
        "  suea = ((sue / 100) * 7) + sue\n",
        "  print(f\"el sueldo del trabajor categoria {cat} con el aumento es ${suea:.2f}\")"
      ],
      "execution_count": null,
      "outputs": []
    }
  ]
}