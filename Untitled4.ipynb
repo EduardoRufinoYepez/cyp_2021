{
  "nbformat": 4,
  "nbformat_minor": 0,
  "metadata": {
    "colab": {
      "name": "Untitled4.ipynb",
      "provenance": [],
      "authorship_tag": "ABX9TyMiILmkgjeZYMCc9TBCPZNM",
      "include_colab_link": true
    },
    "kernelspec": {
      "name": "python3",
      "display_name": "Python 3"
    }
  },
  "cells": [
    {
      "cell_type": "markdown",
      "metadata": {
        "id": "view-in-github",
        "colab_type": "text"
      },
      "source": [
        "<a href=\"https://colab.research.google.com/github/EduardoRufinoYepez/cyp_2021/blob/main/Untitled4.ipynb\" target=\"_parent\"><img src=\"https://colab.research.google.com/assets/colab-badge.svg\" alt=\"Open In Colab\"/></a>"
      ]
    },
    {
      "cell_type": "code",
      "metadata": {
        "colab": {
          "base_uri": "https://localhost:8080/"
        },
        "id": "cIcpsARCLnRQ",
        "outputId": "aa88d307-6fa7-4d61-d75f-f238ff392896"
      },
      "source": [
        "space = \" \"\r\n",
        "test =\"\"\r\n",
        "name = \"\\u233E\"\r\n",
        "for i in range(41):\r\n",
        "  if i % 2 == 0:\r\n",
        "    print(\"\\u2341\",end=\"\")\r\n",
        "  else:\r\n",
        "    print(\"\\u2342\",end=\"\")\r\n",
        "\r\n",
        "print(f\"\\n\\u2341{(7*space)+name+(5*space)+name+(4*space)+(5*name)+(4*space)+(3*name)+(6*space)+(5*name)+(4*space)+(4*name)+(6*space)}\",end=\"\\u2341\")\r\n",
        "print(f\"\\n\\u2341{(8*space)+name+(3*space)+name+(5*space)+name+(11*space)+name+(3*space)+name+(5*space)+name+(16*space)+name+(7*space)}\",end=\"\\u2341\")\r\n",
        "print(f\"\\n\\u2341{(9*space)+name+space+name+(6*space)+(3*name)+(8*space)+(3*name)+(6*space)+(3*name)+(11*space)+name+(8*space)}\",end=\"\\u2341\")\r\n",
        "print(f\"\\n\\u2341{(10*space)+name+(8*space)+name+(11*space)+name+(10*space)+name+(14*space)+name+(9*space)}\",end=\"\\u2341\")\r\n",
        "print(f\"\\n\\u2341{(10*space)+name+(8*space)+name+(11*space)+name+(10*space)+name+(13*space)+name+(10*space)}\",end=\"\\u2341\")\r\n",
        "print(f\"\\n\\u2341{(10*space)+name+(8*space)+(5*name)+(4*space)+name+(10*space)+(5*name)+(4*space)+(4*name)+(6*space)}\\u2342\",end=\"\\n\")\r\n",
        "for i in range(41):\r\n",
        "  if i % 2 == 0:\r\n",
        "    print(\"\\u2341\",end=\"\")\r\n",
        "  else:\r\n",
        "    print(\"\\u2342\",end=\"\")"
      ],
      "execution_count": 85,
      "outputs": [
        {
          "output_type": "stream",
          "text": [
            "⍁⍂⍁⍂⍁⍂⍁⍂⍁⍂⍁⍂⍁⍂⍁⍂⍁⍂⍁⍂⍁⍂⍁⍂⍁⍂⍁⍂⍁⍂⍁⍂⍁⍂⍁⍂⍁⍂⍁⍂⍁\n",
            "⍁       ⌾     ⌾    ⌾⌾⌾⌾⌾    ⌾⌾⌾      ⌾⌾⌾⌾⌾    ⌾⌾⌾⌾      ⍁\n",
            "⍁        ⌾   ⌾     ⌾           ⌾   ⌾     ⌾                ⌾       ⍁\n",
            "⍁         ⌾ ⌾      ⌾⌾⌾        ⌾⌾⌾      ⌾⌾⌾           ⌾        ⍁\n",
            "⍁          ⌾        ⌾           ⌾          ⌾              ⌾         ⍁\n",
            "⍁          ⌾        ⌾           ⌾          ⌾             ⌾          ⍁\n",
            "⍁          ⌾        ⌾⌾⌾⌾⌾    ⌾          ⌾⌾⌾⌾⌾    ⌾⌾⌾⌾      ⍂\n",
            "⍁⍂⍁⍂⍁⍂⍁⍂⍁⍂⍁⍂⍁⍂⍁⍂⍁⍂⍁⍂⍁⍂⍁⍂⍁⍂⍁⍂⍁⍂⍁⍂⍁⍂⍁⍂⍁⍂⍁⍂⍁"
          ],
          "name": "stdout"
        }
      ]
    }
  ]
}