{
  "nbformat": 4,
  "nbformat_minor": 0,
  "metadata": {
    "colab": {
      "name": "7_ene_21_CyP.ipynb",
      "provenance": [],
      "authorship_tag": "ABX9TyPWcQKp2xv5DqKVMvWn8S+n",
      "include_colab_link": true
    },
    "kernelspec": {
      "name": "python3",
      "display_name": "Python 3"
    }
  },
  "cells": [
    {
      "cell_type": "markdown",
      "metadata": {
        "id": "view-in-github",
        "colab_type": "text"
      },
      "source": [
        "<a href=\"https://colab.research.google.com/github/EduardoRufinoYepez/cyp_2021/blob/main/7_ene_21_CyP.ipynb\" target=\"_parent\"><img src=\"https://colab.research.google.com/assets/colab-badge.svg\" alt=\"Open In Colab\"/></a>"
      ]
    },
    {
      "cell_type": "code",
      "metadata": {
        "id": "TKHGZmUi4phs"
      },
      "source": [
        "# problema 4.1\r\n",
        "N = int(input(\"Ingrese el nuemro de elementos del arreglo:\"))\r\n",
        "\r\n",
        "if 1 <= N and N <=500:\r\n",
        "    VEC = [0 for x in range(N)] \r\n",
        "    print(VEC)\r\n",
        "    for I in range(N):\r\n",
        "        VEC[I]=int(input(\"Ingrese valor \" + str(I +1) + \":\"))\r\n",
        "    print(\"Lista de nuemeros sin repeticiones:\")\r\n",
        "    I=0\r\n",
        "    while I < N :\r\n",
        "        print(VEC[I])\r\n",
        "        REPET = VEC[I]\r\n",
        "        while I < N and I != N-1 and REPET == VEC[I+1]  :\r\n",
        "            #print(\"incementa I\", I)\r\n",
        "            I = I + 1   \r\n",
        "        I=I+1    \r\n",
        "else:\r\n",
        "  print(\"El número de elementos del arreglo es incorrecto\")"
      ],
      "execution_count": null,
      "outputs": []
    },
    {
      "cell_type": "code",
      "metadata": {
        "id": "eXGEP6m4QEoz"
      },
      "source": [
        "REN = 3\r\n",
        "COL = 5\r\n",
        "VEC = [[0 for x in range(COL)] for x in range(REN)]\r\n",
        "print(VEC)\r\n",
        "VEC [1][2] = 15\r\n",
        "print(VEC)\r\n",
        "\r\n",
        "print(\"Automatizar el recorrido de arreglo\")\r\n",
        "for i in range(REN):\r\n",
        "  for j in range(COL):\r\n",
        "    print(f\"{i},{j} = {VEC[i][j]}\")"
      ],
      "execution_count": null,
      "outputs": []
    },
    {
      "cell_type": "code",
      "metadata": {
        "id": "Ren6VRAsQLrj"
      },
      "source": [
        "estados= int (input(\"¿Cuantos estados son?: \"))\r\n",
        "lluvias_men_est= [ [0 for x in range(12)] for x in range(estados)]\r\n",
        "print(lluvias_men_est)\r\n",
        "for i in range(estados):\r\n",
        "  for j in range(12):\r\n",
        "    mensaje = \"Dame el valor del estado\"  + str(i+1) + \"del mes\" + str(j+1),\":\" \r\n",
        "    aux = int(input(mensaje))\r\n",
        "    lluvias_men_est[i][j] = aux\r\n",
        "\r\n",
        "print(lluvias_men_est)\r\n",
        "\r\n",
        "print(\"Promedio de lluvias en los estados: \")\r\n",
        "suma = 0\r\n",
        "for i in range(estados):\r\n",
        "  suma = 0 \r\n",
        "  for j in range(12):\r\n",
        "    suma = suma + lluvias_men_est[i][j] \r\n",
        "  print(f\"El promedio de lluvias en el estado {i+1} es {suma/12}\")"
      ],
      "execution_count": null,
      "outputs": []
    }
  ]
}