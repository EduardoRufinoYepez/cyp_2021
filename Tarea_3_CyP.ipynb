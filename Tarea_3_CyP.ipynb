{
  "nbformat": 4,
  "nbformat_minor": 0,
  "metadata": {
    "colab": {
      "name": "Tarea_3_CyP.ipynb",
      "provenance": [],
      "authorship_tag": "ABX9TyNniyCAkGOqyMiJdsUBW516",
      "include_colab_link": true
    },
    "kernelspec": {
      "name": "python3",
      "display_name": "Python 3"
    }
  },
  "cells": [
    {
      "cell_type": "markdown",
      "metadata": {
        "id": "view-in-github",
        "colab_type": "text"
      },
      "source": [
        "<a href=\"https://colab.research.google.com/github/EduardoRufinoYepez/cyp_2021/blob/main/Tarea_3_CyP.ipynb\" target=\"_parent\"><img src=\"https://colab.research.google.com/assets/colab-badge.svg\" alt=\"Open In Colab\"/></a>"
      ]
    },
    {
      "cell_type": "code",
      "metadata": {
        "id": "Slc9oKkybwaj"
      },
      "source": [
        "# Problema1.1\n",
        "\n",
        "PREPO = 0\n",
        "PAGO = 0\n",
        "DEVO = 0\n",
        "\n",
        "PREPO = float (input(\"dame el primer dato: \"))\n",
        "PAGO = float (input(\"dame el segundo dato: \" ))\n",
        "\n",
        "DEVO = PAGO-PREPO\n",
        "print (DEVO)"
      ],
      "execution_count": null,
      "outputs": []
    },
    {
      "cell_type": "code",
      "metadata": {
        "id": "HQh5E0NGb3Ov"
      },
      "source": [
        "# problema1.2\n",
        "\n",
        "BASE = 0\n",
        "ALTURA = 0\n",
        "SUP = 0\n",
        "\n",
        "BASE = float(input(\"la base es:\"))\n",
        "ALTURA = float(input(\"la altura: \"))\n",
        "\n",
        "SUP = (BASE*ALTURA)/2\n",
        "\n",
        "print (SUP)"
      ],
      "execution_count": null,
      "outputs": []
    },
    {
      "cell_type": "code",
      "metadata": {
        "id": "LG8_0Zg4b-b9"
      },
      "source": [
        "# ejercicio1.3\n",
        "NOM = 0\n",
        "PES = 0\n",
        "LON = 0\n",
        "PERSKIL = 0\n",
        "LONMET = 0\n",
        "\n",
        "NOM = (input(\"Como se llama el dinosaurio? \"))\n",
        "PES = float(input(\"Cuanto pesa el dinosaurio en toneladas? \"))\n",
        "LON = float(input(\"Cuanto mide el dinosaurio en pies? \"))\n",
        "PERSKIL = (PES*1000)\n",
        "LONMET = (LON*0.3047)\n",
        "\n",
        "print(f\"Se llama {NOM}, pesa {PERSKIL} en kilogramos y si alutura es de {LONMET} mestros\" )"
      ],
      "execution_count": null,
      "outputs": []
    },
    {
      "cell_type": "code",
      "metadata": {
        "id": "lgO4nwYscIz8"
      },
      "source": [
        "# ejercicio1.4\n",
        "\n",
        "GAL = 0\n",
        "TOTAL = 0\n",
        "\n",
        "GAL = float(input(\"Cuantos galones? \"))\n",
        "TOTAL = GAL*3.785*8.20\n",
        "\n",
        "print (TOTAL)"
      ],
      "execution_count": null,
      "outputs": []
    },
    {
      "cell_type": "code",
      "metadata": {
        "id": "EDuKJ6lVcOtZ"
      },
      "source": [
        "# ejercicio1.5\n",
        "\n",
        "RADIO = 0\n",
        "ALTU = 0\n",
        "VOL = 0\n",
        "ARE = 0\n",
        "\n",
        "RADIO = float(input(\"Dame el radio: \"))\n",
        "ALTU = float(input(\"Dame la altura: \"))\n",
        "VOL = 3.141592*(RADIO**2)*ALTU\n",
        "ARE = 2*3.141592*RADIO*ALTU\n",
        "\n",
        "print(f\"El volumen es: {VOL}\")\n",
        "print(f\"El Area es: {ARE}\")"
      ],
      "execution_count": null,
      "outputs": []
    },
    {
      "cell_type": "code",
      "metadata": {
        "id": "t4YVegq1cWT4"
      },
      "source": [
        "#ejercicio1.6\n",
        "DIAS = 0\n",
        "SEGUNDOS = 0\n",
        "\n",
        "DIAS = int(input(\"Cuantos dias? \"))\n",
        "SEGUNDOS = DIAS*24*60*60\n",
        "\n",
        "print(f\"En {DIAS} dias hay {SEGUNDOS} segundos\")"
      ],
      "execution_count": null,
      "outputs": []
    }
  ]
}