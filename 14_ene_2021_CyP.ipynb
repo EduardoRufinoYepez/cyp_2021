{
  "nbformat": 4,
  "nbformat_minor": 0,
  "metadata": {
    "colab": {
      "name": "14_ene_2021_CyP.ipynb",
      "provenance": [],
      "authorship_tag": "ABX9TyMLV+Lh1tsrJQKWf/wQlmQj",
      "include_colab_link": true
    },
    "kernelspec": {
      "name": "python3",
      "display_name": "Python 3"
    }
  },
  "cells": [
    {
      "cell_type": "markdown",
      "metadata": {
        "id": "view-in-github",
        "colab_type": "text"
      },
      "source": [
        "<a href=\"https://colab.research.google.com/github/EduardoRufinoYepez/cyp_2021/blob/main/14_ene_2021_CyP.ipynb\" target=\"_parent\"><img src=\"https://colab.research.google.com/assets/colab-badge.svg\" alt=\"Open In Colab\"/></a>"
      ]
    },
    {
      "cell_type": "code",
      "metadata": {
        "id": "zgj0SBtR6nTn"
      },
      "source": [
        "import keyword\r\n",
        "pr = keyword.kwlist\r\n",
        "print( len(pr))\r\n",
        "for palabra in pr :\r\n",
        "  print(palabra , end=\",\")"
      ],
      "execution_count": null,
      "outputs": []
    },
    {
      "cell_type": "markdown",
      "metadata": {
        "id": "MNQUT69oRVem"
      },
      "source": [
        "False,None,True,and,as,assert,break,class,continue,def,del,elif,else,except,finally,for,from,global,if,import,in,is,lambda,nonlocal,not,or,pass,raise,return,try,while,with,yield,"
      ]
    },
    {
      "cell_type": "code",
      "metadata": {
        "id": "ez6h_mjpRcXt"
      },
      "source": [
        "import keyword\r\n",
        "pr = keyword.kwlist\r\n",
        "print( len(pr))\r\n",
        "for palabra in pr :\r\n",
        "  print(\"1.\", palabra , end=\",\")"
      ],
      "execution_count": null,
      "outputs": []
    },
    {
      "cell_type": "markdown",
      "metadata": {
        "id": "4ZCyk4abRf7e"
      },
      "source": [
        "False,1. None,1. True,1. and,1. as,1. assert,1. break,1. class,1. continue,1. def,1. del,1. elif,1. else,1. except,1. finally,1. for,1. from,1. global,1. if,1. import,1. in,1. is,1. lambda,1. nonlocal,1. not,1. or,1. pass,1. raise,1. return,1. try,1. while,1. with,1. yield,"
      ]
    },
    {
      "cell_type": "markdown",
      "metadata": {
        "id": "PqfdUhme62M7"
      },
      "source": [
        "# Variable\r\n",
        "Es un espacio de la computadora para almacenar valores que cambian a lo largo de la ejecución del programa. Este espacio de la memoria esta referenciado a por un identificador, el cual tiene ciertas reglas de nombrado.\r\n",
        "- No debe ser igual a alguna palabra de las palabras reservadas.\r\n",
        "- No puede iniciar con número.\r\n",
        "- Puede iniciar con _\r\n",
        "- evita nombre de variantes largos\r\n",
        "- evita muy cortos: x, y, z.\r\n",
        "- Usar notacion snake_case."
      ]
    },
    {
      "cell_type": "code",
      "metadata": {
        "id": "mGmUMEUeRl6f"
      },
      "source": [
        "_2edad = 12\r\n",
        "print(_2edad)\r\n",
        "\r\n",
        "\"\"\"\r\n",
        "No se puede usar una palabra reservada como identificador de variable\r\n",
        "for = 12\r\n",
        "print(for)\r\n",
        "\r\n",
        "\"\"\"\r\n",
        "_2edad"
      ],
      "execution_count": null,
      "outputs": []
    },
    {
      "cell_type": "code",
      "metadata": {
        "id": "v3yKq00lRpPp"
      },
      "source": [
        "\"\"\"\r\n",
        "\r\n",
        "La notacion snake case consta de formar el identificador de variable\r\n",
        "separando las palabras del mismo con un guion bajo.\r\n",
        "\r\n",
        "Se recomienda que los identificadores se escriban en minusculas para las variables\r\n",
        "y en mayusculas para las constantes.\r\n",
        "\r\n",
        "es decir si tenemos una variable para los dias de la semana se escribiria, asi\r\n",
        "\r\n",
        "dias_de_la_semana = 7\r\n",
        "dias_mes = 31\r\n",
        "limite_maximo = 100\r\n",
        "\r\n",
        "\"\"\""
      ],
      "execution_count": null,
      "outputs": []
    },
    {
      "cell_type": "markdown",
      "metadata": {
        "id": "nYo7cLO__gtG"
      },
      "source": [
        "La notación snake case consta de formar el identificador de la variable separando las palabras del mismo \r\n",
        "un guion bajo.\r\n",
        "\r\n",
        "Se recomienda que los identificadores se escriban en minúsculas para las variables\r\n",
        "y en mayúsculas para las constantes\r\n",
        "\r\n",
        "Es decir si tenemos una variable para los días de la semana, se escribiría así:\r\n",
        "\r\n",
        "dias_de_la_semana = 7\r\n",
        "dias_mes = 31"
      ]
    },
    {
      "cell_type": "markdown",
      "metadata": {
        "id": "S_c9gV62-F8B"
      },
      "source": [
        "# Tipos de datos\r\n",
        "- nunmericos\r\n",
        "- int 4 bytes(1,2,3,5462532)\r\n",
        "- float 8 bytes (1.4, 3.1416, 1.0)\r\n",
        "- long 8 bytes (1, 2,3, 84673562142, etc)\r\n",
        "- complex 3+2i (complejos)\r\n",
        "boolean: True o False\r\n",
        "- String cadena de carateres ('cad' o \"cad\" o \"\"\"cad\"\"\")\r\n",
        "- listas (1, a, b, 2, 4)\r\n",
        "- tumplas (edad,34)\r\n",
        "- conjunto\r\n",
        "- diccionarios(\"nombre\":\"juan\")\r\n"
      ]
    },
    {
      "cell_type": "markdown",
      "metadata": {
        "id": "uszpiJ60ElCm"
      },
      "source": [
        "# Tipo de dato String\r\n",
        "este tipo de dato permite almacenas cadenas de caracteres, por ejemplo:\r\n"
      ]
    },
    {
      "cell_type": "code",
      "metadata": {
        "id": "hOfqmqdMRwBu"
      },
      "source": [
        "nombre = 'Eduardo'\r\n",
        "lugar_nacimiento = \"Mexico Edo. de mexico, Ecatepec\"\r\n",
        "frase_favorita = \"\"\"\r\n",
        "el mundo miente,\r\n",
        "pero...\r\n",
        "cambia!!! \r\n",
        ":)\r\n",
        "\"\"\"\r\n",
        "\r\n",
        "print(nombre)\r\n",
        "print(lugar_nacimiento)\r\n",
        "print(frase_favorita)"
      ],
      "execution_count": null,
      "outputs": []
    },
    {
      "cell_type": "markdown",
      "metadata": {
        "id": "KHAC17DFFiOY"
      },
      "source": [
        "# Strings comom arreglo\r\n",
        "un string en phyton es almacenado como el tipo de dato(estructura de datos) arreglo.\r\n",
        "por ejempllo la declaración: '''\r\n",
        "\r\n",
        "El elemento 'j' es almacenado en un arreglo en la posición 0.La 'e' en la 1 y asi sucesivamente.\r\n",
        "\r\n",
        "### selector\r\n",
        "a notacion para seleccionar un elemto del arreglo es:\r\n",
        "\r\n",
        "Donde el valor interno debe ser un valor numerico entero\r\n",
        "\r\n"
      ]
    },
    {
      "cell_type": "code",
      "metadata": {
        "id": "k86VQO_SSIku"
      },
      "source": [
        "nombre = 'Luis'\r\n",
        "print(nombre)\r\n",
        "print( nombre[0])\r\n",
        "print( nombre[3])"
      ],
      "execution_count": null,
      "outputs": []
    },
    {
      "cell_type": "markdown",
      "metadata": {
        "id": "n4YU5q1wSK4z"
      },
      "source": [
        "# Interar sobre un string\r\n",
        "Se puede iterar sobre un String con un for de la forma:\r\n",
        "\r\n",
        "for letra in range) len(nombre) ):\r\n",
        "  print( letra )"
      ]
    },
    {
      "cell_type": "code",
      "metadata": {
        "id": "3eZ2rqVASXKU"
      },
      "source": [
        "for indice in range( len(nombre) ): #0, 1, 2, 3, 4\r\n",
        "  print( indice, end = \" \" )\r\n",
        "  print(nombre [indice] )"
      ],
      "execution_count": null,
      "outputs": []
    },
    {
      "cell_type": "markdown",
      "metadata": {
        "id": "13d7KwdASblD"
      },
      "source": [
        "# Funcion range(inicio, stop,incremento)\r\n",
        "El inicio es opcional y por defecto tiene el valor 0\r\n",
        "\r\n",
        "El incremento tambien es opcional y por defecto es 1"
      ]
    },
    {
      "cell_type": "code",
      "metadata": {
        "id": "JxG9hMkcS7Qu"
      },
      "source": [
        "for indice in range(1, len(nombre) , 1) :\r\n",
        "  print(nombre[indice])"
      ],
      "execution_count": null,
      "outputs": []
    },
    {
      "cell_type": "code",
      "metadata": {
        "id": "-1p-BsiHS9mV"
      },
      "source": [
        "for indice in range(3, -1 , -1) :\r\n",
        "  print(nombre[indice])"
      ],
      "execution_count": null,
      "outputs": []
    },
    {
      "cell_type": "markdown",
      "metadata": {
        "id": "ZQp-1tLWTAdw"
      },
      "source": [
        "# Strings e indexado negativo\r\n",
        "\r\n",
        "En python 3 se agrega una nueva caracteristicas a los arreglos de las cadenas de caracteres, esta consta de la capacidad de indexar de forma negativa. La logica es la siguiente.\r\n",
        "\r\n",
        "El ultimo elemento se le considera como indice (ALTERNATIVO) -1, con lo cual se podria referenciar el final de la cadena sin la necesidad de saber el tamaño de la misma."
      ]
    },
    {
      "cell_type": "code",
      "metadata": {
        "id": "57kiflVUTPdH"
      },
      "source": [
        "nombre = \"Eduardo\"\r\n",
        "print( nombre[3] ) #Indexado Normal\r\n",
        "print( nombre[-1] ) #Indexado alternativo ( Negativo )\r\n",
        "print(\"\")\r\n",
        "for indice_alter in range(-1, -5 , -1):\r\n",
        "  print( nombre[indice_alter] )"
      ],
      "execution_count": null,
      "outputs": []
    },
    {
      "cell_type": "markdown",
      "metadata": {
        "id": "knTOBrv2TWGq"
      },
      "source": [
        "# Slicing de cadenas de caracteres.\r\n",
        "Esta caracteristica permite sacar secciones de una cadena con la siguiente sintaxis:\r\n",
        "\r\n",
        "[ inicio : stop : incremento ]\r\n",
        "donde inicio e incremento son opcionales y tambien soportan indexado alternativo (Negativos)"
      ]
    },
    {
      "cell_type": "markdown",
      "metadata": {
        "id": "TcF_KHtDTa9-"
      },
      "source": [
        ""
      ]
    },
    {
      "cell_type": "code",
      "metadata": {
        "id": "dn1BhOyaTbd7"
      },
      "source": [
        "facultad = \"Facultad de Estudios Superiores Aragon (La mejor)\"\r\n",
        "\r\n",
        "print(facultad)\r\n",
        "for indice in range(12, 20, 1):\r\n",
        "  print(facultad[indice] , end =\"\")\r\n",
        "\r\n",
        "  #Hacer esto mismo con la caracteristica Slicing se logra asi:\r\n",
        "print(\"\\nCon Slicing\")\r\n",
        "print(facultad[12:20:1])\r\n",
        "\r\n",
        "#La palabra 'de' con Slicing\r\n",
        "\r\n",
        "print(facultad[9:11:1])\r\n",
        "\r\n",
        "#La frase '(La mejor)' con indexado alternativo y Slicing\r\n"
      ],
      "execution_count": null,
      "outputs": []
    }
  ]
}