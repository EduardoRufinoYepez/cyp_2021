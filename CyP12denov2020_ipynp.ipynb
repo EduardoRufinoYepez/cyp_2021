{
  "nbformat": 4,
  "nbformat_minor": 0,
  "metadata": {
    "colab": {
      "name": "CyP12denov2020.ipynp",
      "provenance": [],
      "authorship_tag": "ABX9TyOtfNgCvMPmofOF0OfGTPdc",
      "include_colab_link": true
    },
    "kernelspec": {
      "name": "python3",
      "display_name": "Python 3"
    }
  },
  "cells": [
    {
      "cell_type": "markdown",
      "metadata": {
        "id": "view-in-github",
        "colab_type": "text"
      },
      "source": [
        "<a href=\"https://colab.research.google.com/github/EduardoRufinoYepez/cyp_2021/blob/main/CyP12denov2020_ipynp.ipynb\" target=\"_parent\"><img src=\"https://colab.research.google.com/assets/colab-badge.svg\" alt=\"Open In Colab\"/></a>"
      ]
    },
    {
      "cell_type": "code",
      "metadata": {
        "id": "UHwNKpcHeg5S"
      },
      "source": [
        "numero=int (input(\"Dame un numero\"))\n",
        "if numero >0:\n",
        "  print(\"El número es positio\")\n",
        "\n",
        "print( \"Fin de del programa\") \n",
        "\n"
      ],
      "execution_count": null,
      "outputs": []
    },
    {
      "cell_type": "code",
      "metadata": {
        "id": "slh3avdUfDCn"
      },
      "source": [
        "#ejemplo 2\n",
        "numero=int (input(\"digite un numero \"))\n",
        "if numero >0:\n",
        "  print (\"el numero es positivo\")\n",
        "  else: \n",
        "    print(\"el numero es negativo\")"
      ],
      "execution_count": null,
      "outputs": []
    },
    {
      "cell_type": "code",
      "metadata": {
        "id": "Wn7gTdyan8Ih",
        "outputId": "85fdb14f-accf-4e3b-8975-1373a6fceae4",
        "colab": {
          "base_uri": "https://localhost:8080/"
        }
      },
      "source": [
        "numero = int(input(\"Ingresa un número: \"))\n",
        "if numero>0:\n",
        "  print(\"El número es positivo\")\n",
        "elif numero==0:\n",
        "  print(\"El número es cero\")\n",
        "else: #si no imprime negativo\n",
        "  print(\"El número es negativo\")\n",
        "\n",
        "print(\"fin del programa\")\n",
        "  "
      ],
      "execution_count": 2,
      "outputs": [
        {
          "output_type": "stream",
          "text": [
            "Ingresa un número: -9\n",
            "El número es negativo\n",
            "fin del programa\n"
          ],
          "name": "stdout"
        }
      ]
    }
  ]
}