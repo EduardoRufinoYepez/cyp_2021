{
  "nbformat": 4,
  "nbformat_minor": 0,
  "metadata": {
    "colab": {
      "name": "5_ene_21_CyP.ipynb",
      "provenance": [],
      "authorship_tag": "ABX9TyOr2zUbhjkIIKVo/TUpP5C/",
      "include_colab_link": true
    },
    "kernelspec": {
      "name": "python3",
      "display_name": "Python 3"
    }
  },
  "cells": [
    {
      "cell_type": "markdown",
      "metadata": {
        "id": "view-in-github",
        "colab_type": "text"
      },
      "source": [
        "<a href=\"https://colab.research.google.com/github/EduardoRufinoYepez/cyp_2021/blob/main/5_ene_21_CyP.ipynb\" target=\"_parent\"><img src=\"https://colab.research.google.com/assets/colab-badge.svg\" alt=\"Open In Colab\"/></a>"
      ]
    },
    {
      "cell_type": "code",
      "metadata": {
        "id": "Evznmi5g2exJ"
      },
      "source": [
        "sueldo= [0.0 for x in range (7)]\r\n",
        "print (sueldo)\r\n",
        "sueldo [0]=12.3\r\n",
        "sueldo [1]=13.3\r\n",
        "sueldo [2]=14.3\r\n",
        "sueldo [3]=15.3\r\n",
        "sueldo [4]=16.3\r\n",
        "sueldo [5]=17.3\r\n",
        "sueldo [6]=18.3\r\n",
        "print (sueldo)\r\n",
        "\r\n",
        "sueldos = [0.0 for x in range(7)]\r\n",
        "print(sueldos)\r\n",
        "i= 0\r\n",
        "nue_valor= 1.0\r\n",
        "for i in range(7):\r\n",
        "  sueldos[i]= nue_valor\r\n",
        "  nue_valor= nue_valor + 1\r\n",
        "  i= i + 1\r\n",
        "print(sueldos)\r\n",
        "\r\n",
        "for i in range(7):\r\n",
        "  print(f\"el trabajador {int (i)+1} gana ${sueldo[i]} \")"
      ],
      "execution_count": null,
      "outputs": []
    },
    {
      "cell_type": "code",
      "metadata": {
        "id": "yQfqIh1n28PW"
      },
      "source": [
        "#proble4.1\r\n",
        "MAXIMO= 7\r\n",
        "sueldos = [0.0 for x in range(MAXIMO)]\r\n",
        "suma = 0.0\r\n",
        "promedio = 0.0\r\n",
        "\r\n",
        "\r\n",
        "for i in range(MAXIMO):\r\n",
        "  sueldos[i]= float(input(\"same elsueldo: \"))\r\n",
        "\r\n",
        "for i in range(MAXIMO):\r\n",
        "  print(f\"trabajador {i+1} gana: {sueldos[i]}\")\r\n",
        "\r\n",
        "for i in range(MAXIMO):\r\n",
        "  suma = suma + sueldos [i]\r\n",
        "\r\n",
        "promedio = suma/MAXIMO\r\n",
        "\r\n",
        "print(f\"el ppromedio del sueldos es $ {promedio}5\")\r\n",
        "\r\n",
        "for i in range(MAXIMO):\r\n",
        "  if sueldos5[i] > promedio:\r\n",
        "    print(f\"el trabajador {i+1} tiene un sueldo mayor al promedio4\")"
      ],
      "execution_count": null,
      "outputs": []
    },
    {
      "cell_type": "code",
      "metadata": {
        "id": "pgMa4CgE2_TV"
      },
      "source": [
        "Max = 5\r\n",
        "valor =  [0.0 for x in range(Max)]\r\n",
        "sum = 0.0\r\n",
        "prom = 0.0\r\n",
        "M = 0\r\n",
        "m = 100000000\r\n",
        "\r\n",
        "for i in range(Max):\r\n",
        "  valor[i] = int(input(\"Dame un valor entero positivo: \"))\r\n",
        "  if valor[i] > M:\r\n",
        "    M = valor[i]\r\n",
        "  elif valor[i] < m:\r\n",
        "    m = valor[i]\r\n",
        "\r\n",
        "for i in range(Max):\r\n",
        "  sum = sum + valor[i]\r\n",
        "\r\n",
        "prom = sum / Max\r\n",
        "\r\n",
        "print(f\"El numero mayor es {M}\")\r\n",
        "print(f\"El numero menor es {m}\")"
      ],
      "execution_count": null,
      "outputs": []
    },
    {
      "cell_type": "code",
      "metadata": {
        "id": "gLXWCEiY35_A"
      },
      "source": [
        "N = int(input(\"Ingrese el numero de elementos del arreglo: \"))\r\n",
        "VEC = []\r\n",
        "if 1 <= N and N <=500:\r\n",
        "  VEC = [0 for x in range(N)]\r\n",
        "  for I in range(N):\r\n",
        "    VEC[I]=int(input(\"Ingrese valor\" + str(I+1) + \":\"))\r\n",
        "  print(\"Lista de numero sin repeticiones: \")\r\n",
        "\r\n",
        "  I =0\r\n",
        "  while I<N:\r\n",
        "    print(VEC[I])\r\n",
        "    REPET = VEC[I]\r\n",
        "    while I < N and REPET == VEC[I]:\r\n",
        "      I = I +1\r\n",
        "    I = I + 1\r\n",
        "else: \r\n",
        "  print(\"EL numero de elementos del arreglo es incorrecto\")"
      ],
      "execution_count": null,
      "outputs": []
    }
  ]
}