{
  "nbformat": 4,
  "nbformat_minor": 0,
  "metadata": {
    "colab": {
      "name": "Untitled7.ipynb",
      "provenance": [],
      "authorship_tag": "ABX9TyPJdYnNheZlL6Vz7KUGcr72",
      "include_colab_link": true
    },
    "kernelspec": {
      "name": "python3",
      "display_name": "Python 3"
    }
  },
  "cells": [
    {
      "cell_type": "markdown",
      "metadata": {
        "id": "view-in-github",
        "colab_type": "text"
      },
      "source": [
        "<a href=\"https://colab.research.google.com/github/EduardoRufinoYepez/cyp_2021/blob/main/Untitled7.ipynb\" target=\"_parent\"><img src=\"https://colab.research.google.com/assets/colab-badge.svg\" alt=\"Open In Colab\"/></a>"
      ]
    },
    {
      "cell_type": "code",
      "metadata": {
        "colab": {
          "base_uri": "https://localhost:8080/"
        },
        "id": "NbWrdqlsF7Cc",
        "outputId": "cb520930-dcc8-4b08-c87e-f285000674d0"
      },
      "source": [
        "def validInt(msg):\r\n",
        "  while True:\r\n",
        "    try:\r\n",
        "       userInput = int(input(msg))\r\n",
        "    except ValueError:\r\n",
        "       print(\"Este número no es un entero.\")\r\n",
        "    else:\r\n",
        "       return userInput \r\n",
        "       break \r\n",
        "\r\n",
        "\r\n",
        "califs = validInt(\"Ingresa la calificación del alumno: \")\r\n",
        "if califs >= 8:\r\n",
        "  print(\"Aprobado.\")\r\n",
        "else:\r\n",
        "  print(\"Reprobado.\")"
      ],
      "execution_count": 4,
      "outputs": [
        {
          "output_type": "stream",
          "text": [
            "Ingresa la calificación del alumno: 7\n",
            "Reprobado.\n"
          ],
          "name": "stdout"
        }
      ]
    },
    {
      "cell_type": "code",
      "metadata": {
        "colab": {
          "base_uri": "https://localhost:8080/"
        },
        "id": "KCUC-HTpLVAX",
        "outputId": "0d081998-0349-493c-a54e-59ca06759734"
      },
      "source": [
        "lista = [90452, 94, 16,]\r\n",
        "print(lista)"
      ],
      "execution_count": 5,
      "outputs": [
        {
          "output_type": "stream",
          "text": [
            "[90452, 94, 16]\n"
          ],
          "name": "stdout"
        }
      ]
    },
    {
      "cell_type": "code",
      "metadata": {
        "colab": {
          "base_uri": "https://localhost:8080/"
        },
        "id": "aikP-9CGMdf4",
        "outputId": "61a48624-de3d-4d63-9255-7dedb191a2eb"
      },
      "source": [
        "#tabla de multiplicar\r\n",
        "for i in range(1,11):\r\n",
        "  print(5*i)"
      ],
      "execution_count": 9,
      "outputs": [
        {
          "output_type": "stream",
          "text": [
            "5\n",
            "10\n",
            "15\n",
            "20\n",
            "25\n",
            "30\n",
            "35\n",
            "40\n",
            "45\n",
            "50\n"
          ],
          "name": "stdout"
        }
      ]
    },
    {
      "cell_type": "code",
      "metadata": {
        "colab": {
          "base_uri": "https://localhost:8080/"
        },
        "id": "KJwNDFGKOj4l",
        "outputId": "be87da42-b239-4a02-879e-aed709f3c02b"
      },
      "source": [
        "nombre1 = input(print(\"Ingresa primer nombre: \"))\r\n",
        "nombre2 = input(print(\"Ingresa segundo nombre: \"))\r\n",
        "nfinal1 = len(nombre1)-1\r\n",
        "nfinal2 = len(nombre2)-1\r\n",
        "\r\n",
        "\r\n",
        "if nombre1[0] == nombre2[0]:\r\n",
        "  print(\"Los nombres coinciden en el primer carácter.\")\r\n",
        "elif nombre1[nfinal1] == nombre2[nfinal2]:\r\n",
        "  print(\"Los nombres coinciden en el último carácter.\")\r\n",
        "else:\r\n",
        "  print(\"Los nombres no coinciden ni en el último carácter, ni en el primero.\")"
      ],
      "execution_count": 13,
      "outputs": [
        {
          "output_type": "stream",
          "text": [
            "Ingresa primer nombre: \n",
            "Eduardo\n",
            "Ingresa segundo nombre: \n",
            "Alexander\n",
            "Los nombres no coinciden ni en el último carácter, ni en el primero.\n"
          ],
          "name": "stdout"
        }
      ]
    },
    {
      "cell_type": "code",
      "metadata": {
        "colab": {
          "base_uri": "https://localhost:8080/"
        },
        "id": "HSiurku1QpwO",
        "outputId": "76097287-bd81-4536-969f-bc9730dcd070"
      },
      "source": [
        "for i in range(100,0,-1):\r\n",
        "  print(i)"
      ],
      "execution_count": 14,
      "outputs": [
        {
          "output_type": "stream",
          "text": [
            "100\n",
            "99\n",
            "98\n",
            "97\n",
            "96\n",
            "95\n",
            "94\n",
            "93\n",
            "92\n",
            "91\n",
            "90\n",
            "89\n",
            "88\n",
            "87\n",
            "86\n",
            "85\n",
            "84\n",
            "83\n",
            "82\n",
            "81\n",
            "80\n",
            "79\n",
            "78\n",
            "77\n",
            "76\n",
            "75\n",
            "74\n",
            "73\n",
            "72\n",
            "71\n",
            "70\n",
            "69\n",
            "68\n",
            "67\n",
            "66\n",
            "65\n",
            "64\n",
            "63\n",
            "62\n",
            "61\n",
            "60\n",
            "59\n",
            "58\n",
            "57\n",
            "56\n",
            "55\n",
            "54\n",
            "53\n",
            "52\n",
            "51\n",
            "50\n",
            "49\n",
            "48\n",
            "47\n",
            "46\n",
            "45\n",
            "44\n",
            "43\n",
            "42\n",
            "41\n",
            "40\n",
            "39\n",
            "38\n",
            "37\n",
            "36\n",
            "35\n",
            "34\n",
            "33\n",
            "32\n",
            "31\n",
            "30\n",
            "29\n",
            "28\n",
            "27\n",
            "26\n",
            "25\n",
            "24\n",
            "23\n",
            "22\n",
            "21\n",
            "20\n",
            "19\n",
            "18\n",
            "17\n",
            "16\n",
            "15\n",
            "14\n",
            "13\n",
            "12\n",
            "11\n",
            "10\n",
            "9\n",
            "8\n",
            "7\n",
            "6\n",
            "5\n",
            "4\n",
            "3\n",
            "2\n",
            "1\n"
          ],
          "name": "stdout"
        }
      ]
    },
    {
      "cell_type": "code",
      "metadata": {
        "colab": {
          "base_uri": "https://localhost:8080/"
        },
        "id": "xbig7ui9R9q9",
        "outputId": "b6d60dff-7d81-48fd-e1c3-3476d268358f"
      },
      "source": [
        "num1 = input(print(\"Ingresa primer número a evaluar: \"))\r\n",
        "num2 = input(print(\"Ingresa segundo número a evaluar: \"))\r\n",
        "\r\n",
        "if num1 != num2:\r\n",
        "  if num1 > num2:\r\n",
        "    print(f\"Primer número ({num1}) es mayor.\")\r\n",
        "  else:\r\n",
        "    print(f\"Segundo número ({num2}) es mayor.\")\r\n",
        "elif num1 == num2:\r\n",
        "  print(f\"Los dos números {num1, num2} son iguales.\")"
      ],
      "execution_count": 15,
      "outputs": [
        {
          "output_type": "stream",
          "text": [
            "Ingresa primer número a evaluar: \n",
            "2\n",
            "Ingresa segundo número a evaluar: \n",
            "3\n",
            "Segundo número (3) es mayor.\n"
          ],
          "name": "stdout"
        }
      ]
    },
    {
      "cell_type": "code",
      "metadata": {
        "colab": {
          "base_uri": "https://localhost:8080/"
        },
        "id": "Xg-LeObDTQaQ",
        "outputId": "a01cb324-f7ec-40a9-c8e7-80afae4eb378"
      },
      "source": [
        "print(\"El partido a es conocido como el partido rojo.\")\r\n",
        "print(\"El partido b es conocido como el partido verde.\")\r\n",
        "print(\"El partido c es conocido como el partido azul.\")\r\n",
        "voto = \"\"\r\n",
        "\r\n",
        "while(True):\r\n",
        "  voto = input(print(\"¿Por cuál partido votarás? Ingresa una letra (a, b o c) para continuar: \"))\r\n",
        "  if voto==\"a\" or voto==\"b\" or voto==\"c\" or voto==\"A\" or voto==\"B\" or voto==\"C\":\r\n",
        "    break;\r\n",
        "  else:\r\n",
        "    print(\"Opción errónea. El voto ingresado es inválido con respecto al nombre de los partidos.\")\r\n",
        "\r\n",
        "if voto == \"a\" or voto == \"A\":\r\n",
        "  print(\"Ha votado por el partido rojo.\")\r\n",
        "elif voto == \"b\" or voto == \"B\":\r\n",
        "  print(\"Ha votado por el partido verde.\")\r\n",
        "elif voto == \"c\" or voto == \"C\":\r\n",
        "  print(\"Ha votado por el partido azul.\")"
      ],
      "execution_count": 17,
      "outputs": [
        {
          "output_type": "stream",
          "text": [
            "El partido a es conocido como el partido rojo.\n",
            "El partido b es conocido como el partido verde.\n",
            "El partido c es conocido como el partido azul.\n",
            "¿Por cuál partido votarás? Ingresa una letra (a, b o c) para continuar: \n",
            "C\n",
            "Ha votado por el partido azul.\n"
          ],
          "name": "stdout"
        }
      ]
    },
    {
      "cell_type": "code",
      "metadata": {
        "colab": {
          "base_uri": "https://localhost:8080/"
        },
        "id": "Vakt15GaUQO9",
        "outputId": "86f6928f-c619-482c-89eb-6cfc4bb2e419"
      },
      "source": [
        "monto = float(input(print(\"Ingrese la cantidad de dinero depositada: \")))\r\n",
        "interes = monto + (monto * 0.03)\r\n",
        "print(f\"La  cantidad ingresado más el interes al siguiente mes es : {interes}\")"
      ],
      "execution_count": 18,
      "outputs": [
        {
          "output_type": "stream",
          "text": [
            "Ingrese la cantidad de dinero depositada: \n",
            "1000\n",
            "El monto ingresado más el interes al siguiente mes es de: 1030.0\n"
          ],
          "name": "stdout"
        }
      ]
    },
    {
      "cell_type": "code",
      "metadata": {
        "colab": {
          "base_uri": "https://localhost:8080/"
        },
        "id": "Oa8gFBurW60A",
        "outputId": "d8c14693-bd60-40b6-dce1-62c10b21efe7"
      },
      "source": [
        "carros = {\"Marca\": [\"Mercedes Benz\",\"Audi\",\"BMW\",\"Tesla\",\"Ford\"],\r\n",
        "          \"Modelo\": [\"J23\",\"J7\",\"M6\",\"Cybertruck\",\"HR5\"],\r\n",
        "          \"Color\": [\"Negro\",\"Blanco\",\"Azul\",\"Verde\",\"Rojo\"],\r\n",
        "          \"No. Matricula\": [\"MD6IM\",\"85EVK\",\"MI74D\",\"0OMGF\",\"3E4RF\"],\r\n",
        "          \"Precio\": [3000000, 9000000, 4000000, 6000000, 78000000] \r\n",
        "          }\r\n",
        "for i in range(5):\r\n",
        "  print(f\"Para el {i+1}° carro: \")\r\n",
        "  print(carros[\"Marca\"][i])\r\n",
        "  print(carros[\"Modelo\"][i])\r\n",
        "  print(carros[\"Color\"][i])\r\n",
        "  print(carros[\"No. Matricula\"][i])\r\n",
        "  print(carros[\"Precio\"][i])"
      ],
      "execution_count": 19,
      "outputs": [
        {
          "output_type": "stream",
          "text": [
            "Para el 1° carro: \n",
            "Mercedes Benz\n",
            "J23\n",
            "Negro\n",
            "MD6IM\n",
            "3000000\n",
            "Para el 2° carro: \n",
            "Audi\n",
            "J7\n",
            "Blanco\n",
            "85EVK\n",
            "9000000\n",
            "Para el 3° carro: \n",
            "BMW\n",
            "M6\n",
            "Azul\n",
            "MI74D\n",
            "4000000\n",
            "Para el 4° carro: \n",
            "Tesla\n",
            "Cybertruck\n",
            "Verde\n",
            "0OMGF\n",
            "6000000\n",
            "Para el 5° carro: \n",
            "Ford\n",
            "HR5\n",
            "Rojo\n",
            "3E4RF\n",
            "78000000\n"
          ],
          "name": "stdout"
        }
      ]
    },
    {
      "cell_type": "code",
      "metadata": {
        "colab": {
          "base_uri": "https://localhost:8080/"
        },
        "id": "MHgrkH_BYr6o",
        "outputId": "c578c250-bb87-4fe8-cb7c-35839588c445"
      },
      "source": [
        "vocales = \"aeiouAEIOU\"\r\n",
        "letra = \"\"\r\n",
        "val = False\r\n",
        "while(True):\r\n",
        "  letra = input(print(\"Ingresa una cualquier letra: \"))\r\n",
        "  if len(letra) > 1:\r\n",
        "    print(\"Usted ingresó más de una letra.\")\r\n",
        "  else:\r\n",
        "    break\r\n",
        "rango = len(vocales)\r\n",
        "for i in range(0,len(vocales)):\r\n",
        "  if letra == vocales[i]:\r\n",
        "    val = True\r\n",
        "\r\n",
        "if val == True:\r\n",
        "  print(f\"La letra que usted ingreso ({letra}) es una vocal.\")\r\n",
        "else:\r\n",
        "  print(f\"La letra que usted ingresó ({letra}) es una consonante.\")"
      ],
      "execution_count": 22,
      "outputs": [
        {
          "output_type": "stream",
          "text": [
            "Ingresa una cualquier letra: \n",
            "d\n",
            "La letra que usted ingresó (d) es una consonante.\n"
          ],
          "name": "stdout"
        }
      ]
    }
  ]
}