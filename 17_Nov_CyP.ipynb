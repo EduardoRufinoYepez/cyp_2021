{
  "nbformat": 4,
  "nbformat_minor": 0,
  "metadata": {
    "colab": {
      "name": "17_Nov_CyP.ipynb",
      "provenance": [],
      "authorship_tag": "ABX9TyPicVZCswvmsn9w4a1YQOTN",
      "include_colab_link": true
    },
    "kernelspec": {
      "name": "python3",
      "display_name": "Python 3"
    }
  },
  "cells": [
    {
      "cell_type": "markdown",
      "metadata": {
        "id": "view-in-github",
        "colab_type": "text"
      },
      "source": [
        "<a href=\"https://colab.research.google.com/github/EduardoRufinoYepez/cyp_2021/blob/main/17_Nov_CyP.ipynb\" target=\"_parent\"><img src=\"https://colab.research.google.com/assets/colab-badge.svg\" alt=\"Open In Colab\"/></a>"
      ]
    },
    {
      "cell_type": "code",
      "metadata": {
        "id": "Sw9Xl-_qS3w0"
      },
      "source": [
        "edad=15\n",
        "estatura=1.67\n",
        "a=10\n",
        "b=3\n",
        "c= 2 ** b + 2 + 3 + 4\n",
        "print( c ) \n",
        "e= estatura * 2.0\n",
        "print( e )\n",
        "f= a / b\n",
        "print( f ) #3.333\n",
        "g= a // b\n",
        "print (\"g=\", g)\n",
        "print(\"h=\", h)\n",
        " num= 11\n",
        " print(\"es par num?\",(numero % 2) ==0)\n",
        " es pr num?   False \n",
        " \n"
      ],
      "execution_count": null,
      "outputs": []
    },
    {
      "cell_type": "code",
      "metadata": {
        "colab": {
          "base_uri": "https://localhost:8080/"
        },
        "id": "IVE6twIGXoTJ",
        "outputId": "b7f666ea-e70d-44a0-e0f0-b1189d36a3ce"
      },
      "source": [
        "ecuacion = 9 + 7 * 8 - 36 / 5  # 9 + 56 - 7.2 -> 65 - 7.2\n",
        "print(ecuacion)\n",
        "ecuacion = (9 + 7) * 8 - 36 / 5  # 128 - 7.2"
      ],
      "execution_count": 1,
      "outputs": [
        {
          "output_type": "stream",
          "text": [
            "57.8\n"
          ],
          "name": "stdout"
        }
      ]
    },
    {
      "cell_type": "code",
      "metadata": {
        "id": "7skUB6ClcAhx"
      },
      "source": [
        "#operadores logicos \n",
        "\n",
        "valor = (5 == 5) # true\n",
        "print(valor)\n"
      ],
      "execution_count": null,
      "outputs": []
    },
    {
      "cell_type": "code",
      "metadata": {
        "id": "aqHC0Yatdj90"
      },
      "source": [
        "#operadores logicos\n",
        "x = 5\n",
        "y = 4\n",
        "valor = ( x == y ) # son iguales?? --> Falso\n",
        "print(valor)\n",
        "valor = (x ! = y) # son diferentes?? --> Verdadero\n",
        "print(valor)\n",
        "valor = ( x < y ) # es menos que?? -->  Verdadero\n",
        "print(valor)\n",
        "valor = ( x > y ) # es menor que?? --> Falso\n",
        "print(valor)\n",
        "\n"
      ],
      "execution_count": null,
      "outputs": []
    }
  ]
}